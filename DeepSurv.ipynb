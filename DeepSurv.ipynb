{
  "cells": [
    {
      "cell_type": "markdown",
      "metadata": {
        "id": "_fINXWTiV1Fu"
      },
      "source": [
        "# DeepSurv\n",
        "\n",
        "In this notebook we will train the [Cox-PH method](http://jmlr.org/papers/volume20/18-424/18-424.pdf), also known as [DeepSurv](https://bmcmedresmethodol.biomedcentral.com/articles/10.1186/s12874-018-0482-1)."
      ]
    },
    {
      "cell_type": "code",
      "execution_count": null,
      "metadata": {
        "colab": {
          "base_uri": "https://localhost:8080/"
        },
        "id": "njmtOoQkWKrs",
        "outputId": "edba9758-56c8-43e8-8a1f-c257ac64518a"
      },
      "outputs": [
        {
          "output_type": "stream",
          "name": "stdout",
          "text": [
            "Requirement already satisfied: torchtuples in /usr/local/lib/python3.10/dist-packages (0.2.2)\n",
            "Requirement already satisfied: numpy>=1.15.4 in /usr/local/lib/python3.10/dist-packages (from torchtuples) (1.25.2)\n",
            "Requirement already satisfied: pandas>=0.24.2 in /usr/local/lib/python3.10/dist-packages (from torchtuples) (1.5.3)\n",
            "Requirement already satisfied: matplotlib>=3.0.3 in /usr/local/lib/python3.10/dist-packages (from torchtuples) (3.7.1)\n",
            "Requirement already satisfied: contourpy>=1.0.1 in /usr/local/lib/python3.10/dist-packages (from matplotlib>=3.0.3->torchtuples) (1.2.0)\n",
            "Requirement already satisfied: cycler>=0.10 in /usr/local/lib/python3.10/dist-packages (from matplotlib>=3.0.3->torchtuples) (0.12.1)\n",
            "Requirement already satisfied: fonttools>=4.22.0 in /usr/local/lib/python3.10/dist-packages (from matplotlib>=3.0.3->torchtuples) (4.50.0)\n",
            "Requirement already satisfied: kiwisolver>=1.0.1 in /usr/local/lib/python3.10/dist-packages (from matplotlib>=3.0.3->torchtuples) (1.4.5)\n",
            "Requirement already satisfied: packaging>=20.0 in /usr/local/lib/python3.10/dist-packages (from matplotlib>=3.0.3->torchtuples) (24.0)\n",
            "Requirement already satisfied: pillow>=6.2.0 in /usr/local/lib/python3.10/dist-packages (from matplotlib>=3.0.3->torchtuples) (9.4.0)\n",
            "Requirement already satisfied: pyparsing>=2.3.1 in /usr/local/lib/python3.10/dist-packages (from matplotlib>=3.0.3->torchtuples) (3.1.2)\n",
            "Requirement already satisfied: python-dateutil>=2.7 in /usr/local/lib/python3.10/dist-packages (from matplotlib>=3.0.3->torchtuples) (2.8.2)\n",
            "Requirement already satisfied: pytz>=2020.1 in /usr/local/lib/python3.10/dist-packages (from pandas>=0.24.2->torchtuples) (2023.4)\n",
            "Requirement already satisfied: six>=1.5 in /usr/local/lib/python3.10/dist-packages (from python-dateutil>=2.7->matplotlib>=3.0.3->torchtuples) (1.16.0)\n",
            "Requirement already satisfied: pycox in /usr/local/lib/python3.10/dist-packages (0.2.3)\n",
            "Requirement already satisfied: torchtuples>=0.2.0 in /usr/local/lib/python3.10/dist-packages (from pycox) (0.2.2)\n",
            "Requirement already satisfied: feather-format>=0.4.0 in /usr/local/lib/python3.10/dist-packages (from pycox) (0.4.1)\n",
            "Requirement already satisfied: h5py>=2.9.0 in /usr/local/lib/python3.10/dist-packages (from pycox) (3.9.0)\n",
            "Requirement already satisfied: numba>=0.44 in /usr/local/lib/python3.10/dist-packages (from pycox) (0.58.1)\n",
            "Requirement already satisfied: scikit-learn>=0.21.2 in /usr/local/lib/python3.10/dist-packages (from pycox) (1.2.2)\n",
            "Requirement already satisfied: requests>=2.22.0 in /usr/local/lib/python3.10/dist-packages (from pycox) (2.31.0)\n",
            "Requirement already satisfied: py7zr>=0.11.3 in /usr/local/lib/python3.10/dist-packages (from pycox) (0.21.0)\n",
            "Requirement already satisfied: pyarrow>=0.4.0 in /usr/local/lib/python3.10/dist-packages (from feather-format>=0.4.0->pycox) (14.0.2)\n",
            "Requirement already satisfied: numpy>=1.17.3 in /usr/local/lib/python3.10/dist-packages (from h5py>=2.9.0->pycox) (1.25.2)\n",
            "Requirement already satisfied: llvmlite<0.42,>=0.41.0dev0 in /usr/local/lib/python3.10/dist-packages (from numba>=0.44->pycox) (0.41.1)\n",
            "Requirement already satisfied: texttable in /usr/local/lib/python3.10/dist-packages (from py7zr>=0.11.3->pycox) (1.7.0)\n",
            "Requirement already satisfied: pycryptodomex>=3.16.0 in /usr/local/lib/python3.10/dist-packages (from py7zr>=0.11.3->pycox) (3.20.0)\n",
            "Requirement already satisfied: pyzstd>=0.15.9 in /usr/local/lib/python3.10/dist-packages (from py7zr>=0.11.3->pycox) (0.15.10)\n",
            "Requirement already satisfied: pyppmd<1.2.0,>=1.1.0 in /usr/local/lib/python3.10/dist-packages (from py7zr>=0.11.3->pycox) (1.1.0)\n",
            "Requirement already satisfied: pybcj<1.1.0,>=1.0.0 in /usr/local/lib/python3.10/dist-packages (from py7zr>=0.11.3->pycox) (1.0.2)\n",
            "Requirement already satisfied: multivolumefile>=0.2.3 in /usr/local/lib/python3.10/dist-packages (from py7zr>=0.11.3->pycox) (0.2.3)\n",
            "Requirement already satisfied: inflate64<1.1.0,>=1.0.0 in /usr/local/lib/python3.10/dist-packages (from py7zr>=0.11.3->pycox) (1.0.0)\n",
            "Requirement already satisfied: brotli>=1.1.0 in /usr/local/lib/python3.10/dist-packages (from py7zr>=0.11.3->pycox) (1.1.0)\n",
            "Requirement already satisfied: psutil in /usr/local/lib/python3.10/dist-packages (from py7zr>=0.11.3->pycox) (5.9.5)\n",
            "Requirement already satisfied: charset-normalizer<4,>=2 in /usr/local/lib/python3.10/dist-packages (from requests>=2.22.0->pycox) (3.3.2)\n",
            "Requirement already satisfied: idna<4,>=2.5 in /usr/local/lib/python3.10/dist-packages (from requests>=2.22.0->pycox) (3.6)\n",
            "Requirement already satisfied: urllib3<3,>=1.21.1 in /usr/local/lib/python3.10/dist-packages (from requests>=2.22.0->pycox) (2.0.7)\n",
            "Requirement already satisfied: certifi>=2017.4.17 in /usr/local/lib/python3.10/dist-packages (from requests>=2.22.0->pycox) (2024.2.2)\n",
            "Requirement already satisfied: scipy>=1.3.2 in /usr/local/lib/python3.10/dist-packages (from scikit-learn>=0.21.2->pycox) (1.11.4)\n",
            "Requirement already satisfied: joblib>=1.1.1 in /usr/local/lib/python3.10/dist-packages (from scikit-learn>=0.21.2->pycox) (1.3.2)\n",
            "Requirement already satisfied: threadpoolctl>=2.0.0 in /usr/local/lib/python3.10/dist-packages (from scikit-learn>=0.21.2->pycox) (3.4.0)\n",
            "Requirement already satisfied: pandas>=0.24.2 in /usr/local/lib/python3.10/dist-packages (from torchtuples>=0.2.0->pycox) (1.5.3)\n",
            "Requirement already satisfied: matplotlib>=3.0.3 in /usr/local/lib/python3.10/dist-packages (from torchtuples>=0.2.0->pycox) (3.7.1)\n",
            "Requirement already satisfied: contourpy>=1.0.1 in /usr/local/lib/python3.10/dist-packages (from matplotlib>=3.0.3->torchtuples>=0.2.0->pycox) (1.2.0)\n",
            "Requirement already satisfied: cycler>=0.10 in /usr/local/lib/python3.10/dist-packages (from matplotlib>=3.0.3->torchtuples>=0.2.0->pycox) (0.12.1)\n",
            "Requirement already satisfied: fonttools>=4.22.0 in /usr/local/lib/python3.10/dist-packages (from matplotlib>=3.0.3->torchtuples>=0.2.0->pycox) (4.50.0)\n",
            "Requirement already satisfied: kiwisolver>=1.0.1 in /usr/local/lib/python3.10/dist-packages (from matplotlib>=3.0.3->torchtuples>=0.2.0->pycox) (1.4.5)\n",
            "Requirement already satisfied: packaging>=20.0 in /usr/local/lib/python3.10/dist-packages (from matplotlib>=3.0.3->torchtuples>=0.2.0->pycox) (24.0)\n",
            "Requirement already satisfied: pillow>=6.2.0 in /usr/local/lib/python3.10/dist-packages (from matplotlib>=3.0.3->torchtuples>=0.2.0->pycox) (9.4.0)\n",
            "Requirement already satisfied: pyparsing>=2.3.1 in /usr/local/lib/python3.10/dist-packages (from matplotlib>=3.0.3->torchtuples>=0.2.0->pycox) (3.1.2)\n",
            "Requirement already satisfied: python-dateutil>=2.7 in /usr/local/lib/python3.10/dist-packages (from matplotlib>=3.0.3->torchtuples>=0.2.0->pycox) (2.8.2)\n",
            "Requirement already satisfied: pytz>=2020.1 in /usr/local/lib/python3.10/dist-packages (from pandas>=0.24.2->torchtuples>=0.2.0->pycox) (2023.4)\n",
            "Requirement already satisfied: six>=1.5 in /usr/local/lib/python3.10/dist-packages (from python-dateutil>=2.7->matplotlib>=3.0.3->torchtuples>=0.2.0->pycox) (1.16.0)\n"
          ]
        }
      ],
      "source": [
        "!pip install torchtuples\n",
        "!pip install pycox"
      ]
    },
    {
      "cell_type": "code",
      "source": [
        "pip install lifelines"
      ],
      "metadata": {
        "colab": {
          "base_uri": "https://localhost:8080/"
        },
        "id": "M1nx-aOx00oZ",
        "outputId": "5eabe517-6ce7-4e6e-d359-d23b26a21b6a"
      },
      "execution_count": null,
      "outputs": [
        {
          "output_type": "stream",
          "name": "stdout",
          "text": [
            "Requirement already satisfied: lifelines in /usr/local/lib/python3.10/dist-packages (0.28.0)\n",
            "Requirement already satisfied: numpy<2.0,>=1.14.0 in /usr/local/lib/python3.10/dist-packages (from lifelines) (1.25.2)\n",
            "Requirement already satisfied: scipy>=1.2.0 in /usr/local/lib/python3.10/dist-packages (from lifelines) (1.11.4)\n",
            "Requirement already satisfied: pandas>=1.2.0 in /usr/local/lib/python3.10/dist-packages (from lifelines) (1.5.3)\n",
            "Requirement already satisfied: matplotlib>=3.0 in /usr/local/lib/python3.10/dist-packages (from lifelines) (3.7.1)\n",
            "Requirement already satisfied: autograd>=1.5 in /usr/local/lib/python3.10/dist-packages (from lifelines) (1.6.2)\n",
            "Requirement already satisfied: autograd-gamma>=0.3 in /usr/local/lib/python3.10/dist-packages (from lifelines) (0.5.0)\n",
            "Requirement already satisfied: formulaic>=0.2.2 in /usr/local/lib/python3.10/dist-packages (from lifelines) (1.0.1)\n",
            "Requirement already satisfied: future>=0.15.2 in /usr/local/lib/python3.10/dist-packages (from autograd>=1.5->lifelines) (0.18.3)\n",
            "Requirement already satisfied: interface-meta>=1.2.0 in /usr/local/lib/python3.10/dist-packages (from formulaic>=0.2.2->lifelines) (1.3.0)\n",
            "Requirement already satisfied: typing-extensions>=4.2.0 in /usr/local/lib/python3.10/dist-packages (from formulaic>=0.2.2->lifelines) (4.10.0)\n",
            "Requirement already satisfied: wrapt>=1.0 in /usr/local/lib/python3.10/dist-packages (from formulaic>=0.2.2->lifelines) (1.14.1)\n",
            "Requirement already satisfied: contourpy>=1.0.1 in /usr/local/lib/python3.10/dist-packages (from matplotlib>=3.0->lifelines) (1.2.0)\n",
            "Requirement already satisfied: cycler>=0.10 in /usr/local/lib/python3.10/dist-packages (from matplotlib>=3.0->lifelines) (0.12.1)\n",
            "Requirement already satisfied: fonttools>=4.22.0 in /usr/local/lib/python3.10/dist-packages (from matplotlib>=3.0->lifelines) (4.50.0)\n",
            "Requirement already satisfied: kiwisolver>=1.0.1 in /usr/local/lib/python3.10/dist-packages (from matplotlib>=3.0->lifelines) (1.4.5)\n",
            "Requirement already satisfied: packaging>=20.0 in /usr/local/lib/python3.10/dist-packages (from matplotlib>=3.0->lifelines) (24.0)\n",
            "Requirement already satisfied: pillow>=6.2.0 in /usr/local/lib/python3.10/dist-packages (from matplotlib>=3.0->lifelines) (9.4.0)\n",
            "Requirement already satisfied: pyparsing>=2.3.1 in /usr/local/lib/python3.10/dist-packages (from matplotlib>=3.0->lifelines) (3.1.2)\n",
            "Requirement already satisfied: python-dateutil>=2.7 in /usr/local/lib/python3.10/dist-packages (from matplotlib>=3.0->lifelines) (2.8.2)\n",
            "Requirement already satisfied: pytz>=2020.1 in /usr/local/lib/python3.10/dist-packages (from pandas>=1.2.0->lifelines) (2023.4)\n",
            "Requirement already satisfied: six>=1.5 in /usr/local/lib/python3.10/dist-packages (from python-dateutil>=2.7->matplotlib>=3.0->lifelines) (1.16.0)\n"
          ]
        }
      ]
    },
    {
      "cell_type": "code",
      "execution_count": null,
      "metadata": {
        "id": "wx8CDAyAV1Fz"
      },
      "outputs": [],
      "source": [
        "import numpy as np\n",
        "import pandas as pd\n",
        "import matplotlib.pyplot as plt\n",
        "from sklearn.preprocessing import StandardScaler\n",
        "from sklearn_pandas import DataFrameMapper\n",
        "\n",
        "import torch\n",
        "import torchtuples as tt\n",
        "\n",
        "from pycox.models import CoxPH\n",
        "from pycox.evaluation import EvalSurv\n",
        "\n",
        "from sklearn.model_selection import ParameterSampler\n",
        "\n",
        "from lifelines import KaplanMeierFitter"
      ]
    },
    {
      "cell_type": "code",
      "execution_count": null,
      "metadata": {
        "id": "oMAOktxXV1F2"
      },
      "outputs": [],
      "source": [
        "np.random.seed(1234)\n",
        "_ = torch.manual_seed(123)"
      ]
    },
    {
      "cell_type": "markdown",
      "metadata": {
        "id": "LXF8k8H7V1F2"
      },
      "source": [
        "## 1. Dataset"
      ]
    },
    {
      "cell_type": "code",
      "execution_count": null,
      "metadata": {
        "colab": {
          "base_uri": "https://localhost:8080/"
        },
        "id": "YvZP0hDSgZWW",
        "outputId": "994e5753-c7fb-4a51-b6c1-027f27e31990"
      },
      "outputs": [
        {
          "output_type": "stream",
          "name": "stdout",
          "text": [
            "Drive already mounted at /content/drive; to attempt to forcibly remount, call drive.mount(\"/content/drive\", force_remount=True).\n"
          ]
        }
      ],
      "source": [
        "from google.colab import drive\n",
        "drive.mount('/content/drive')"
      ]
    },
    {
      "cell_type": "code",
      "execution_count": null,
      "metadata": {
        "id": "F3jyV91MV0og"
      },
      "outputs": [],
      "source": [
        "# Read the preprocessed file\n",
        "brca = pd.read_csv('/content/drive/My Drive/3799/brca_filtered.csv')"
      ]
    },
    {
      "cell_type": "markdown",
      "metadata": {
        "id": "DxEE0V36Zihb"
      },
      "source": [
        "## 2. Modelling"
      ]
    },
    {
      "cell_type": "markdown",
      "metadata": {
        "id": "ulZOTmbbr-u-"
      },
      "source": [
        "### Train, valid, and test set split"
      ]
    },
    {
      "cell_type": "code",
      "execution_count": null,
      "metadata": {
        "id": "2uwqA0M4N5XH"
      },
      "outputs": [],
      "source": [
        "data = brca"
      ]
    },
    {
      "cell_type": "code",
      "execution_count": null,
      "metadata": {
        "id": "BsdwfKlpI2Fv"
      },
      "outputs": [],
      "source": [
        "from sklearn.model_selection import train_test_split\n",
        "\n",
        "# Splitting the dataset into train, validation, and test sets while maintaining class balance\n",
        "df_train_val, df_test = train_test_split(data, test_size=0.2, random_state=42, stratify=data['status'])\n",
        "df_train, df_val = train_test_split(df_train_val, test_size=0.2, random_state=42, stratify=df_train_val['status'])"
      ]
    },
    {
      "cell_type": "markdown",
      "metadata": {
        "id": "WFjDmtT_V1F4"
      },
      "source": [
        "### Feature transforms\n",
        "All variables needs to be of type `'float32'`, as this is required by pytorch."
      ]
    },
    {
      "cell_type": "code",
      "execution_count": null,
      "metadata": {
        "id": "mI-hwKMJrNPc"
      },
      "outputs": [],
      "source": [
        "from sklearn_pandas import DataFrameMapper\n",
        "# Get a list of all column names in the DataFrame\n",
        "all_cols = data.iloc[:,2:].columns.tolist()\n",
        "\n",
        "# Create a list of tuples for all columns\n",
        "all_cols_tuples = [(col, None) for col in all_cols]\n",
        "\n",
        "# Create the DataFrameMapper object with all columns\n",
        "x_mapper = DataFrameMapper(all_cols_tuples)"
      ]
    },
    {
      "cell_type": "code",
      "execution_count": null,
      "metadata": {
        "id": "4AtyMy1Lth-o"
      },
      "outputs": [],
      "source": [
        "x_train = x_mapper.fit_transform(df_train).astype('float32')\n",
        "x_val = x_mapper.transform(df_val).astype('float32')\n",
        "x_test = x_mapper.transform(df_test).astype('float32')"
      ]
    },
    {
      "cell_type": "code",
      "execution_count": null,
      "metadata": {
        "id": "DidNkMLbV1F6"
      },
      "outputs": [],
      "source": [
        "# Extract target\n",
        "get_target = lambda df: (df['time'].values, df['status'].values)\n",
        "y_train = get_target(df_train)\n",
        "y_val = get_target(df_val)\n",
        "y_test = get_target(df_test)\n",
        "durations_test, events_test = get_target(df_test)\n",
        "val = x_val, y_val"
      ]
    },
    {
      "cell_type": "markdown",
      "metadata": {
        "id": "QoUzG-6iV1F7"
      },
      "source": [
        "### Neural net\n",
        "\n",
        "We create a simple MLP with two hidden layers, ReLU activations, batch norm and dropout.\n",
        "Here, we just use the `torchtuples.practical.MLPVanilla` net to do this.\n",
        "\n",
        "Note that we set `out_features` to 1, and that we have not `output_bias`."
      ]
    },
    {
      "cell_type": "code",
      "execution_count": null,
      "metadata": {
        "id": "K22V0jkPgSWn"
      },
      "outputs": [],
      "source": [
        "from sklearn.base import BaseEstimator\n",
        "\n",
        "class DeepSURVSklearnAdapter(BaseEstimator):\n",
        "    def __init__(\n",
        "        self,\n",
        "        learning_rate=1e-4,\n",
        "        batch_norm=True,\n",
        "        dropout=0.0,\n",
        "        num_nodes=[32, 32],\n",
        "        batch_size=128,\n",
        "        epochs=10,\n",
        "    ):\n",
        "        self.learning_rate = learning_rate\n",
        "        self.batch_norm = batch_norm\n",
        "        self.dropout = dropout\n",
        "        self.num_nodes = num_nodes\n",
        "        self.batch_size = batch_size\n",
        "        self.epochs = epochs\n",
        "\n",
        "    def fit(self, X, y):\n",
        "        self.net_ = tt.practical.MLPVanilla(\n",
        "            X.shape[1],\n",
        "            self.num_nodes,\n",
        "            1,\n",
        "            self.batch_norm,\n",
        "            self.dropout,\n",
        "            output_bias = False, # prevent overfitting/simplify the model\n",
        "        )\n",
        "        self.deepsurv_ = CoxPH(self.net_, tt.optim.Adam)\n",
        "        self.deepsurv_.optimizer.set_lr(self.learning_rate)\n",
        "\n",
        "        # Sklearn needs the y inputs to be arranged as a matrix with each row\n",
        "        # corresponding to an example but CoxPH needs a tuple with two arrays?\n",
        "        y_ = (y[0], y[1])\n",
        "\n",
        "        #callbacks = [tt.callbacks.EarlyStopping()]\n",
        "        log = self.deepsurv_.fit(\n",
        "            X,\n",
        "            y_,\n",
        "            self.batch_size,\n",
        "            self.epochs,\n",
        "            verbose=False\n",
        "        )\n",
        "\n",
        "        return self\n",
        "\n",
        "    def score(self, X, y):\n",
        "        _ = self.deepsurv_.compute_baseline_hazards()\n",
        "        surv = self.deepsurv_.predict_surv_df(X)\n",
        "\n",
        "        ev = EvalSurv(\n",
        "            surv,\n",
        "            y[0],  # time to event\n",
        "            y[1],  # event\n",
        "            censor_surv=\"km\",\n",
        "        )\n",
        "\n",
        "        return ev.concordance_td()\n",
        "\n",
        "    def brier_score(self, X, y, time_grid):\n",
        "        _ = self.deepsurv_.compute_baseline_hazards()\n",
        "        surv = self.deepsurv_.predict_surv_df(X)\n",
        "\n",
        "        ev = EvalSurv(\n",
        "            surv,\n",
        "            y[0],  # time to event\n",
        "            y[1],  # event\n",
        "            censor_surv=\"km\",\n",
        "        )\n",
        "\n",
        "        return ev.brier_score(time_grid)\n",
        "\n",
        "    def integrated_brier_score(self, X, y, time_grid):\n",
        "        _ = self.deepsurv_.compute_baseline_hazards()\n",
        "        surv = self.deepsurv_.predict_surv_df(X)\n",
        "\n",
        "        ev = EvalSurv(\n",
        "            surv,\n",
        "            y[0],  # time to event\n",
        "            y[1],  # event\n",
        "            censor_surv=\"km\",\n",
        "        )\n",
        "\n",
        "        return ev.integrated_brier_score(time_grid)\n",
        "\n",
        "    def predict(self, X):\n",
        "        _ = self.deepsurv_.compute_baseline_hazards()\n",
        "        # Predict survival probabilities for X\n",
        "        return self.deepsurv_.predict_surv_df(X)\n",
        "\n",
        "    def calc_rmst(self, X, y, time_point):\n",
        "        _ = self.deepsurv_.compute_baseline_hazards()\n",
        "        surv = self.deepsurv_.predict_surv_df(X)\n",
        "        surv_prob = surv.reset_index()\n",
        "\n",
        "        time_list=[]\n",
        "        for i in surv_prob['duration']:\n",
        "          if i<=(time_point+1):             # 5-year RMST\n",
        "              time_list.append(i)\n",
        "\n",
        "        # Calculate RMST\n",
        "        rmst_i = pd.DataFrame(columns=surv_prob.columns[1:])\n",
        "        for i in range(len(time_list)-1):\n",
        "          t = time_list[i]\n",
        "          t_plus_1 = time_list[i+1]\n",
        "          row_num = surv_prob[surv_prob['duration'] == t].index[0]\n",
        "          s_t = surv_prob.iloc[row_num, 1:]\n",
        "          mu = (t_plus_1 - t) * s_t\n",
        "\n",
        "          rmst_i = pd.concat([rmst_i, pd.DataFrame([mu])])\n",
        "\n",
        "        rmst = pd.DataFrame(rmst_i.sum(axis=0))\n",
        "        rmst = rmst.rename(columns={0: 'rmst'})\n",
        "\n",
        "        return rmst\n",
        "\n",
        "    def calc_pred_error(self, rmst, time_point):\n",
        "        test = df_test.copy()\n",
        "        test = test.iloc[:,:2]\n",
        "        test = test.reset_index(drop=True)\n",
        "        test = pd.concat([test, rmst], axis=1)\n",
        "\n",
        "        # Kaplan-Meier estimator of the censoring distribution\n",
        "        kmf = KaplanMeierFitter()\n",
        "        kmf.fit(test['time'], 1-test['status'])\n",
        "\n",
        "        cen = kmf.survival_function_\n",
        "        cen = cen.reset_index()\n",
        "\n",
        "        up_sum = 0\n",
        "        low_sum = 0\n",
        "\n",
        "        for i in range(len(test)):\n",
        "            if test['time'][i] <= time_point:     # 5-year RMST prediction error\n",
        "                up = (1/cen[cen['timeline'] == test['time'][i]]['KM_estimate'].iloc[0])*test[\"status\"][i]*abs(test['time'][i]-test['rmst'][i])\n",
        "                low = (1/cen[cen['timeline'] == test['time'][i]]['KM_estimate'].iloc[0])*test[\"status\"][i]\n",
        "                up_sum+=up\n",
        "                low_sum+=low\n",
        "\n",
        "        pred_error=up_sum/low_sum\n",
        "        return pred_error"
      ]
    },
    {
      "cell_type": "code",
      "execution_count": null,
      "metadata": {
        "id": "kalL7SH4Ts5B"
      },
      "outputs": [],
      "source": [
        "import warnings\n",
        "# Ignore FutureWarnings related to is_monotonic deprecation\n",
        "warnings.filterwarnings(\"ignore\", message=\"is_monotonic is deprecated\")"
      ]
    },
    {
      "cell_type": "code",
      "execution_count": null,
      "metadata": {
        "colab": {
          "base_uri": "https://localhost:8080/"
        },
        "id": "eRMc2dOfnKN-",
        "outputId": "2661bc35-7e6b-4cc6-884c-7a790f1d9adf"
      },
      "outputs": [
        {
          "output_type": "stream",
          "name": "stdout",
          "text": [
            "Current parameters: {'num_nodes': [32, 32], 'learning_rate': 0.1, 'epochs': 512, 'dropout': 0.1, 'batch_size': 512}\n",
            "C-index: 0.624\n",
            "========================================\n",
            "Current parameters: {'num_nodes': [64, 64], 'learning_rate': 0.01, 'epochs': 512, 'dropout': 0.2, 'batch_size': 512}\n",
            "C-index: 0.613\n",
            "========================================\n",
            "Current parameters: {'num_nodes': [32, 32], 'learning_rate': 0.01, 'epochs': 512, 'dropout': 0.1, 'batch_size': 512}\n",
            "C-index: 0.601\n",
            "========================================\n",
            "Current parameters: {'num_nodes': [32, 32], 'learning_rate': 0.001, 'epochs': 512, 'dropout': 0.0, 'batch_size': 256}\n",
            "C-index: 0.574\n",
            "========================================\n",
            "Current parameters: {'num_nodes': [32, 64], 'learning_rate': 0.1, 'epochs': 512, 'dropout': 0.2, 'batch_size': 256}\n",
            "C-index: 0.615\n",
            "========================================\n",
            "Current parameters: {'num_nodes': [64, 64], 'learning_rate': 0.001, 'epochs': 512, 'dropout': 0.2, 'batch_size': 128}\n",
            "C-index: 0.0\n",
            "========================================\n",
            "Current parameters: {'num_nodes': [64, 64], 'learning_rate': 0.1, 'epochs': 512, 'dropout': 0.1, 'batch_size': 128}\n",
            "C-index: 0.567\n",
            "========================================\n",
            "Current parameters: {'num_nodes': [32, 64], 'learning_rate': 0.001, 'epochs': 512, 'dropout': 0.1, 'batch_size': 256}\n",
            "C-index: 0.578\n",
            "========================================\n",
            "Current parameters: {'num_nodes': [32, 64], 'learning_rate': 0.1, 'epochs': 512, 'dropout': 0.0, 'batch_size': 256}\n",
            "C-index: 0.592\n",
            "========================================\n",
            "Current parameters: {'num_nodes': [32, 64], 'learning_rate': 0.001, 'epochs': 512, 'dropout': 0.0, 'batch_size': 128}\n",
            "C-index: 0.58\n",
            "========================================\n",
            "Best parameters: {'num_nodes': [32, 32], 'learning_rate': 0.1, 'epochs': 512, 'dropout': 0.1, 'batch_size': 512}\n",
            "Best C-index: 0.624\n"
          ]
        }
      ],
      "source": [
        "# Define the parameter grid for random search\n",
        "param_grid = {\n",
        "    'learning_rate': [1e-1, 1e-2, 1e-3, 1e-4],\n",
        "    'dropout': [0.0, 0.1, 0.2],\n",
        "    'num_nodes': [[32, 32], [64, 64], [32, 64]],\n",
        "    'batch_size': [128, 256, 512],\n",
        "    'epochs': [512]\n",
        "}\n",
        "\n",
        "# Define the number of parameter settings that will be sampled\n",
        "n_iter = 10\n",
        "\n",
        "# Perform random search\n",
        "random_search = ParameterSampler(param_grid, n_iter=n_iter, random_state=123)\n",
        "\n",
        "best_score = float('-inf')\n",
        "best_params = None\n",
        "\n",
        "for params in random_search:\n",
        "    print(\"Current parameters:\", params)\n",
        "    model = DeepSURVSklearnAdapter(**params)\n",
        "    model.fit(x_train, y_train)\n",
        "    c_index = model.score(x_val, y_val)\n",
        "    print(\"C-index:\", round(c_index,3))\n",
        "    if c_index > best_score:\n",
        "        best_score = c_index\n",
        "        best_params = params\n",
        "    print(\"=\" * 40)\n",
        "\n",
        "print(\"Best parameters:\", best_params)\n",
        "print(\"Best C-index:\", round(best_score,3))"
      ]
    },
    {
      "cell_type": "code",
      "source": [
        "# num_nodes=[32, 32], learning_rate = 0.1, epochs = 512, dropout = 0.1, batch_size = 512"
      ],
      "metadata": {
        "id": "w1MHyZte-SKF"
      },
      "execution_count": null,
      "outputs": []
    },
    {
      "cell_type": "markdown",
      "metadata": {
        "id": "UKPWHwjNzhyq"
      },
      "source": [
        "## 3. Evaluation and Prediction"
      ]
    },
    {
      "cell_type": "code",
      "execution_count": null,
      "metadata": {
        "id": "hDpEK4CvP7RN"
      },
      "outputs": [],
      "source": [
        "# Initialize lists to store C-index and integrated Brier score\n",
        "c_index_scores = []\n",
        "integrated_brier_scores = []\n",
        "prediction_error = []\n",
        "\n",
        "# Repeat the process 20 times\n",
        "for _ in range(20):\n",
        "    # Create and train the best model with the best parameters\n",
        "    best_model = DeepSURVSklearnAdapter(**best_params)\n",
        "    best_model.fit(x_train, y_train)\n",
        "\n",
        "    # Evaluate the best model on the test data\n",
        "    # Calculate c-index\n",
        "    c_index = best_model.score(x_test, y_test)\n",
        "    c_index_scores.append(c_index)\n",
        "\n",
        "    # Calculate integrated Brier score\n",
        "    time_grid = np.linspace(durations_test.min(), durations_test.max(), 100)\n",
        "    integrated_brier = best_model.integrated_brier_score(x_test, y_test, time_grid)\n",
        "    integrated_brier_scores.append(integrated_brier)\n",
        "\n",
        "    # Calculate prediction_error for 5-year RMST\n",
        "    # 5-year: 365.25 * 5 = 1826.25\n",
        "    time_point = 1826.25\n",
        "    pred_error = best_model.calc_pred_error(best_model.calc_rmst(x_test, y_test, time_point), time_point) # 5-year RMST prediction error\n",
        "    prediction_error.append(pred_error)"
      ]
    },
    {
      "cell_type": "code",
      "source": [
        "# Calculate the mean C-index, integrated Brier score, and prediction error\n",
        "mean_c_index = np.mean(c_index_scores)\n",
        "mean_integrated_brier = np.mean(integrated_brier_scores)\n",
        "mean_pred_error = np.mean(prediction_error)\n",
        "\n",
        "print(\"Mean C-index:\", round(mean_c_index, 3))\n",
        "print(\"Mean integrated Brier score:\", round(mean_integrated_brier, 3))\n",
        "print(\"Mean prediction error:\", round(mean_pred_error, 3))"
      ],
      "metadata": {
        "colab": {
          "base_uri": "https://localhost:8080/"
        },
        "id": "EHhNf8cN-_M-",
        "outputId": "d936dbb3-118b-4aaf-8e8b-4448fcddbd16"
      },
      "execution_count": null,
      "outputs": [
        {
          "output_type": "stream",
          "name": "stdout",
          "text": [
            "Mean C-index: 0.711\n",
            "Mean integrated Brier score: 0.164\n",
            "Mean prediction error: 778.012\n"
          ]
        }
      ]
    },
    {
      "cell_type": "code",
      "execution_count": null,
      "metadata": {
        "colab": {
          "base_uri": "https://localhost:8080/",
          "height": 368
        },
        "id": "OneyOJB3QPYZ",
        "outputId": "ec5e6cd2-eac8-4e56-8abc-de6f6a5a7aff"
      },
      "outputs": [
        {
          "output_type": "display_data",
          "data": {
            "text/plain": [
              "<Figure size 600x400 with 1 Axes>"
            ],
            "image/png": "[encoded data removed]"
          },
          "metadata": {}
        }
      ],
      "source": [
        "# Plot boxplot of C-index scores over 20 replicates\n",
        "plt.figure(figsize=(6, 4))\n",
        "plt.boxplot(c_index_scores)\n",
        "plt.title('Boxplot of C-index Scores over 20 Replicates')\n",
        "plt.ylabel('C-index')\n",
        "plt.xticks([])\n",
        "plt.show()"
      ]
    },
    {
      "cell_type": "code",
      "execution_count": null,
      "metadata": {
        "colab": {
          "base_uri": "https://localhost:8080/",
          "height": 367
        },
        "id": "fjX1HIehQQtY",
        "outputId": "9df0489f-700a-4dda-b993-6464e47244a9"
      },
      "outputs": [
        {
          "output_type": "display_data",
          "data": {
            "text/plain": [
              "<Figure size 600x400 with 1 Axes>"
            ],
            "image/png": "[encoded data removed]"
          },
          "metadata": {}
        }
      ],
      "source": [
        "# Plot boxplot of integrated Brier scores\n",
        "plt.figure(figsize=(6, 4))\n",
        "plt.boxplot(integrated_brier_scores)\n",
        "plt.title('Boxplot of Integrated Brier Scores over 20 Replicates')\n",
        "plt.ylabel('Integrated Brier Score')\n",
        "plt.xticks([])\n",
        "plt.show()"
      ]
    },
    {
      "cell_type": "code",
      "source": [
        "# Plot boxplot of prediction_error for 5-year RMST over 20 replicates\n",
        "plt.figure(figsize=(6, 4))\n",
        "plt.boxplot(c_index_scores)\n",
        "plt.title('Boxplot of Prediction error for 5-year RMST over 20 Replicates')\n",
        "plt.ylabel('Prediction error')\n",
        "plt.xticks([])\n",
        "plt.show()"
      ],
      "metadata": {
        "colab": {
          "base_uri": "https://localhost:8080/",
          "height": 368
        },
        "id": "BMlaxBAC_4LG",
        "outputId": "c3eceab3-13ee-4194-8e58-ab22ecc231d9"
      },
      "execution_count": null,
      "outputs": [
        {
          "output_type": "display_data",
          "data": {
            "text/plain": [
              "<Figure size 600x400 with 1 Axes>"
            ],
            "image/png": "[encoded data removed]"
          },
          "metadata": {}
        }
      ]
    },
    {
      "cell_type": "code",
      "source": [
        "# Combine the lists into one string\n",
        "combined_data = ''\n",
        "combined_data += 'c_index_scores:\\n'\n",
        "combined_data += ', '.join(map(str, c_index_scores))\n",
        "combined_data += '\\n\\nintegrated_brier_scores:\\n'\n",
        "combined_data += ', '.join(map(str, integrated_brier_scores))\n",
        "combined_data += '\\n\\nprediction_error:\\n'\n",
        "combined_data += ', '.join(map(str, prediction_error))\n",
        "\n",
        "# Save the combined data to a text file\n",
        "with open('deepsurv_scores.txt', 'w') as f:\n",
        "    f.write(combined_data)\n",
        "\n",
        "# Download the text file\n",
        "from google.colab import files\n",
        "files.download('deepsurv_scores.txt')"
      ],
      "metadata": {
        "colab": {
          "base_uri": "https://localhost:8080/",
          "height": 17
        },
        "id": "Fqj170rN_2ov",
        "outputId": "984b1561-2b21-4a3e-f916-bd9afcb5f312"
      },
      "execution_count": null,
      "outputs": [
        {
          "output_type": "display_data",
          "data": {
            "text/plain": [
              "<IPython.core.display.Javascript object>"
            ],
            "application/javascript": [
              "\n",
              "    async function download(id, filename, size) {\n",
              "      if (!google.colab.kernel.accessAllowed) {\n",
              "        return;\n",
              "      }\n",
              "      const div = document.createElement('div');\n",
              "      const label = document.createElement('label');\n",
              "      label.textContent = `Downloading \"${filename}\": `;\n",
              "      div.appendChild(label);\n",
              "      const progress = document.createElement('progress');\n",
              "      progress.max = size;\n",
              "      div.appendChild(progress);\n",
              "      document.body.appendChild(div);\n",
              "\n",
              "      const buffers = [];\n",
              "      let downloaded = 0;\n",
              "\n",
              "      const channel = await google.colab.kernel.comms.open(id);\n",
              "      // Send a message to notify the kernel that we're ready.\n",
              "      channel.send({})\n",
              "\n",
              "      for await (const message of channel.messages) {\n",
              "        // Send a message to notify the kernel that we're ready.\n",
              "        channel.send({})\n",
              "        if (message.buffers) {\n",
              "          for (const buffer of message.buffers) {\n",
              "            buffers.push(buffer);\n",
              "            downloaded += buffer.byteLength;\n",
              "            progress.value = downloaded;\n",
              "          }\n",
              "        }\n",
              "      }\n",
              "      const blob = new Blob(buffers, {type: 'application/binary'});\n",
              "      const a = document.createElement('a');\n",
              "      a.href = window.URL.createObjectURL(blob);\n",
              "      a.download = filename;\n",
              "      div.appendChild(a);\n",
              "      a.click();\n",
              "      div.remove();\n",
              "    }\n",
              "  "
            ]
          },
          "metadata": {}
        },
        {
          "output_type": "display_data",
          "data": {
            "text/plain": [
              "<IPython.core.display.Javascript object>"
            ],
            "application/javascript": [
              "download(\"download_161d34e3-6f93-411b-811e-9a990719cab0\", \"deepsurv_scores.txt\", 1251)"
            ]
          },
          "metadata": {}
        }
      ]
    }
  ],
  "metadata": {
    "colab": {
      "provenance": [],
      "toc_visible": true
    },
    "kernelspec": {
      "display_name": "Python 3",
      "name": "python3"
    },
    "language_info": {
      "codemirror_mode": {
        "name": "ipython",
        "version": 3
      },
      "file_extension": ".py",
      "mimetype": "text/x-python",
      "name": "python",
      "nbconvert_exporter": "python",
      "pygments_lexer": "ipython3",
      "version": "3.7.4"
    }
  },
  "nbformat": 4,
  "nbformat_minor": 0
}