{
  "cells": [
    {
      "cell_type": "markdown",
      "metadata": {
        "id": "_fINXWTiV1Fu"
      },
      "source": [
        "# DeepSurv\n",
        "\n",
        "In this notebook we will train the [Cox-PH method](http://jmlr.org/papers/volume20/18-424/18-424.pdf), also known as [DeepSurv](https://bmcmedresmethodol.biomedcentral.com/articles/10.1186/s12874-018-0482-1)."
      ]
    },
    {
      "cell_type": "code",
      "execution_count": null,
      "metadata": {
        "colab": {
          "base_uri": "https://localhost:8080/"
        },
        "id": "njmtOoQkWKrs",
        "outputId": "d460eb97-579c-40e6-bb8d-2726926ff3d6"
      },
      "outputs": [
        {
          "output_type": "stream",
          "name": "stdout",
          "text": [
            "Collecting torchtuples\n",
            "  Downloading torchtuples-0.2.2-py3-none-any.whl (41 kB)\n",
            "\u001b[?25l     \u001b[90m━━━━━━━━━━━━━━━━━━━━━━━━━━━━━━━━━━━━━━━━\u001b[0m \u001b[32m0.0/41.9 kB\u001b[0m \u001b[31m?\u001b[0m eta \u001b[36m-:--:--\u001b[0m\r\u001b[2K     \u001b[90m━━━━━━━━━━━━━━━━━━━━━━━━━━━━━━━━━━━━━━━━\u001b[0m \u001b[32m41.9/41.9 kB\u001b[0m \u001b[31m1.2 MB/s\u001b[0m eta \u001b[36m0:00:00\u001b[0m\n",
            "\u001b[?25hRequirement already satisfied: numpy>=1.15.4 in /usr/local/lib/python3.10/dist-packages (from torchtuples) (1.25.2)\n",
            "Requirement already satisfied: pandas>=0.24.2 in /usr/local/lib/python3.10/dist-packages (from torchtuples) (1.5.3)\n",
            "Requirement already satisfied: matplotlib>=3.0.3 in /usr/local/lib/python3.10/dist-packages (from torchtuples) (3.7.1)\n",
            "Requirement already satisfied: contourpy>=1.0.1 in /usr/local/lib/python3.10/dist-packages (from matplotlib>=3.0.3->torchtuples) (1.2.0)\n",
            "Requirement already satisfied: cycler>=0.10 in /usr/local/lib/python3.10/dist-packages (from matplotlib>=3.0.3->torchtuples) (0.12.1)\n",
            "Requirement already satisfied: fonttools>=4.22.0 in /usr/local/lib/python3.10/dist-packages (from matplotlib>=3.0.3->torchtuples) (4.50.0)\n",
            "Requirement already satisfied: kiwisolver>=1.0.1 in /usr/local/lib/python3.10/dist-packages (from matplotlib>=3.0.3->torchtuples) (1.4.5)\n",
            "Requirement already satisfied: packaging>=20.0 in /usr/local/lib/python3.10/dist-packages (from matplotlib>=3.0.3->torchtuples) (24.0)\n",
            "Requirement already satisfied: pillow>=6.2.0 in /usr/local/lib/python3.10/dist-packages (from matplotlib>=3.0.3->torchtuples) (9.4.0)\n",
            "Requirement already satisfied: pyparsing>=2.3.1 in /usr/local/lib/python3.10/dist-packages (from matplotlib>=3.0.3->torchtuples) (3.1.2)\n",
            "Requirement already satisfied: python-dateutil>=2.7 in /usr/local/lib/python3.10/dist-packages (from matplotlib>=3.0.3->torchtuples) (2.8.2)\n",
            "Requirement already satisfied: pytz>=2020.1 in /usr/local/lib/python3.10/dist-packages (from pandas>=0.24.2->torchtuples) (2023.4)\n",
            "Requirement already satisfied: six>=1.5 in /usr/local/lib/python3.10/dist-packages (from python-dateutil>=2.7->matplotlib>=3.0.3->torchtuples) (1.16.0)\n",
            "Installing collected packages: torchtuples\n",
            "Successfully installed torchtuples-0.2.2\n",
            "Collecting pycox\n",
            "  Downloading pycox-0.2.3-py3-none-any.whl (73 kB)\n",
            "\u001b[2K     \u001b[90m━━━━━━━━━━━━━━━━━━━━━━━━━━━━━━━━━━━━━━━━\u001b[0m \u001b[32m73.7/73.7 kB\u001b[0m \u001b[31m478.8 kB/s\u001b[0m eta \u001b[36m0:00:00\u001b[0m\n",
            "\u001b[?25hRequirement already satisfied: torchtuples>=0.2.0 in /usr/local/lib/python3.10/dist-packages (from pycox) (0.2.2)\n",
            "Collecting feather-format>=0.4.0 (from pycox)\n",
            "  Downloading feather-format-0.4.1.tar.gz (3.2 kB)\n",
            "  Preparing metadata (setup.py) ... \u001b[?25l\u001b[?25hdone\n",
            "Requirement already satisfied: h5py>=2.9.0 in /usr/local/lib/python3.10/dist-packages (from pycox) (3.9.0)\n",
            "Requirement already satisfied: numba>=0.44 in /usr/local/lib/python3.10/dist-packages (from pycox) (0.58.1)\n",
            "Requirement already satisfied: scikit-learn>=0.21.2 in /usr/local/lib/python3.10/dist-packages (from pycox) (1.2.2)\n",
            "Requirement already satisfied: requests>=2.22.0 in /usr/local/lib/python3.10/dist-packages (from pycox) (2.31.0)\n",
            "Collecting py7zr>=0.11.3 (from pycox)\n",
            "  Downloading py7zr-0.21.0-py3-none-any.whl (67 kB)\n",
            "\u001b[2K     \u001b[90m━━━━━━━━━━━━━━━━━━━━━━━━━━━━━━━━━━━━━━━━\u001b[0m \u001b[32m67.6/67.6 kB\u001b[0m \u001b[31m3.6 MB/s\u001b[0m eta \u001b[36m0:00:00\u001b[0m\n",
            "\u001b[?25hRequirement already satisfied: pyarrow>=0.4.0 in /usr/local/lib/python3.10/dist-packages (from feather-format>=0.4.0->pycox) (14.0.2)\n",
            "Requirement already satisfied: numpy>=1.17.3 in /usr/local/lib/python3.10/dist-packages (from h5py>=2.9.0->pycox) (1.25.2)\n",
            "Requirement already satisfied: llvmlite<0.42,>=0.41.0dev0 in /usr/local/lib/python3.10/dist-packages (from numba>=0.44->pycox) (0.41.1)\n",
            "Collecting texttable (from py7zr>=0.11.3->pycox)\n",
            "  Downloading texttable-1.7.0-py2.py3-none-any.whl (10 kB)\n",
            "Collecting pycryptodomex>=3.16.0 (from py7zr>=0.11.3->pycox)\n",
            "  Downloading pycryptodomex-3.20.0-cp35-abi3-manylinux_2_17_x86_64.manylinux2014_x86_64.whl (2.1 MB)\n",
            "\u001b[2K     \u001b[90m━━━━━━━━━━━━━━━━━━━━━━━━━━━━━━━━━━━━━━━━\u001b[0m \u001b[32m2.1/2.1 MB\u001b[0m \u001b[31m32.1 MB/s\u001b[0m eta \u001b[36m0:00:00\u001b[0m\n",
            "\u001b[?25hCollecting pyzstd>=0.15.9 (from py7zr>=0.11.3->pycox)\n",
            "  Downloading pyzstd-0.15.10-cp310-cp310-manylinux_2_17_x86_64.manylinux2014_x86_64.whl (411 kB)\n",
            "\u001b[2K     \u001b[90m━━━━━━━━━━━━━━━━━━━━━━━━━━━━━━━━━━━━━━━━\u001b[0m \u001b[32m411.2/411.2 kB\u001b[0m \u001b[31m3.5 MB/s\u001b[0m eta \u001b[36m0:00:00\u001b[0m\n",
            "\u001b[?25hCollecting pyppmd<1.2.0,>=1.1.0 (from py7zr>=0.11.3->pycox)\n",
            "  Downloading pyppmd-1.1.0-cp310-cp310-manylinux_2_17_x86_64.manylinux2014_x86_64.whl (138 kB)\n",
            "\u001b[2K     \u001b[90m━━━━━━━━━━━━━━━━━━━━━━━━━━━━━━━━━━━━━━━━\u001b[0m \u001b[32m138.9/138.9 kB\u001b[0m \u001b[31m7.4 MB/s\u001b[0m eta \u001b[36m0:00:00\u001b[0m\n",
            "\u001b[?25hCollecting pybcj<1.1.0,>=1.0.0 (from py7zr>=0.11.3->pycox)\n",
            "  Downloading pybcj-1.0.2-cp310-cp310-manylinux_2_17_x86_64.manylinux2014_x86_64.whl (49 kB)\n",
            "\u001b[2K     \u001b[90m━━━━━━━━━━━━━━━━━━━━━━━━━━━━━━━━━━━━━━━━\u001b[0m \u001b[32m49.7/49.7 kB\u001b[0m \u001b[31m6.4 MB/s\u001b[0m eta \u001b[36m0:00:00\u001b[0m\n",
            "\u001b[?25hCollecting multivolumefile>=0.2.3 (from py7zr>=0.11.3->pycox)\n",
            "  Downloading multivolumefile-0.2.3-py3-none-any.whl (17 kB)\n",
            "Collecting inflate64<1.1.0,>=1.0.0 (from py7zr>=0.11.3->pycox)\n",
            "  Downloading inflate64-1.0.0-cp310-cp310-manylinux_2_17_x86_64.manylinux2014_x86_64.whl (93 kB)\n",
            "\u001b[2K     \u001b[90m━━━━━━━━━━━━━━━━━━━━━━━━━━━━━━━━━━━━━━━━\u001b[0m \u001b[32m93.1/93.1 kB\u001b[0m \u001b[31m4.1 MB/s\u001b[0m eta \u001b[36m0:00:00\u001b[0m\n",
            "\u001b[?25hCollecting brotli>=1.1.0 (from py7zr>=0.11.3->pycox)\n",
            "  Downloading Brotli-1.1.0-cp310-cp310-manylinux_2_5_x86_64.manylinux1_x86_64.manylinux_2_12_x86_64.manylinux2010_x86_64.whl (3.0 MB)\n",
            "\u001b[2K     \u001b[90m━━━━━━━━━━━━━━━━━━━━━━━━━━━━━━━━━━━━━━━━\u001b[0m \u001b[32m3.0/3.0 MB\u001b[0m \u001b[31m56.5 MB/s\u001b[0m eta \u001b[36m0:00:00\u001b[0m\n",
            "\u001b[?25hRequirement already satisfied: psutil in /usr/local/lib/python3.10/dist-packages (from py7zr>=0.11.3->pycox) (5.9.5)\n",
            "Requirement already satisfied: charset-normalizer<4,>=2 in /usr/local/lib/python3.10/dist-packages (from requests>=2.22.0->pycox) (3.3.2)\n",
            "Requirement already satisfied: idna<4,>=2.5 in /usr/local/lib/python3.10/dist-packages (from requests>=2.22.0->pycox) (3.6)\n",
            "Requirement already satisfied: urllib3<3,>=1.21.1 in /usr/local/lib/python3.10/dist-packages (from requests>=2.22.0->pycox) (2.0.7)\n",
            "Requirement already satisfied: certifi>=2017.4.17 in /usr/local/lib/python3.10/dist-packages (from requests>=2.22.0->pycox) (2024.2.2)\n",
            "Requirement already satisfied: scipy>=1.3.2 in /usr/local/lib/python3.10/dist-packages (from scikit-learn>=0.21.2->pycox) (1.11.4)\n",
            "Requirement already satisfied: joblib>=1.1.1 in /usr/local/lib/python3.10/dist-packages (from scikit-learn>=0.21.2->pycox) (1.3.2)\n",
            "Requirement already satisfied: threadpoolctl>=2.0.0 in /usr/local/lib/python3.10/dist-packages (from scikit-learn>=0.21.2->pycox) (3.4.0)\n",
            "Requirement already satisfied: pandas>=0.24.2 in /usr/local/lib/python3.10/dist-packages (from torchtuples>=0.2.0->pycox) (1.5.3)\n",
            "Requirement already satisfied: matplotlib>=3.0.3 in /usr/local/lib/python3.10/dist-packages (from torchtuples>=0.2.0->pycox) (3.7.1)\n",
            "Requirement already satisfied: contourpy>=1.0.1 in /usr/local/lib/python3.10/dist-packages (from matplotlib>=3.0.3->torchtuples>=0.2.0->pycox) (1.2.0)\n",
            "Requirement already satisfied: cycler>=0.10 in /usr/local/lib/python3.10/dist-packages (from matplotlib>=3.0.3->torchtuples>=0.2.0->pycox) (0.12.1)\n",
            "Requirement already satisfied: fonttools>=4.22.0 in /usr/local/lib/python3.10/dist-packages (from matplotlib>=3.0.3->torchtuples>=0.2.0->pycox) (4.50.0)\n",
            "Requirement already satisfied: kiwisolver>=1.0.1 in /usr/local/lib/python3.10/dist-packages (from matplotlib>=3.0.3->torchtuples>=0.2.0->pycox) (1.4.5)\n",
            "Requirement already satisfied: packaging>=20.0 in /usr/local/lib/python3.10/dist-packages (from matplotlib>=3.0.3->torchtuples>=0.2.0->pycox) (24.0)\n",
            "Requirement already satisfied: pillow>=6.2.0 in /usr/local/lib/python3.10/dist-packages (from matplotlib>=3.0.3->torchtuples>=0.2.0->pycox) (9.4.0)\n",
            "Requirement already satisfied: pyparsing>=2.3.1 in /usr/local/lib/python3.10/dist-packages (from matplotlib>=3.0.3->torchtuples>=0.2.0->pycox) (3.1.2)\n",
            "Requirement already satisfied: python-dateutil>=2.7 in /usr/local/lib/python3.10/dist-packages (from matplotlib>=3.0.3->torchtuples>=0.2.0->pycox) (2.8.2)\n",
            "Requirement already satisfied: pytz>=2020.1 in /usr/local/lib/python3.10/dist-packages (from pandas>=0.24.2->torchtuples>=0.2.0->pycox) (2023.4)\n",
            "Requirement already satisfied: six>=1.5 in /usr/local/lib/python3.10/dist-packages (from python-dateutil>=2.7->matplotlib>=3.0.3->torchtuples>=0.2.0->pycox) (1.16.0)\n",
            "Building wheels for collected packages: feather-format\n",
            "  Building wheel for feather-format (setup.py) ... \u001b[?25l\u001b[?25hdone\n",
            "  Created wheel for feather-format: filename=feather_format-0.4.1-py3-none-any.whl size=2436 sha256=8bc1caf42374c067a035f489328e98edce61784791cd28e8cdaf4156ded3176a\n",
            "  Stored in directory: /root/.cache/pip/wheels/a6/ff/5d/4f10de26fe5ddef243c97f13c6cf579d7353d659e41a05c3a6\n",
            "Successfully built feather-format\n",
            "Installing collected packages: texttable, brotli, pyzstd, pyppmd, pycryptodomex, pybcj, multivolumefile, inflate64, py7zr, feather-format, pycox\n",
            "Successfully installed brotli-1.1.0 feather-format-0.4.1 inflate64-1.0.0 multivolumefile-0.2.3 py7zr-0.21.0 pybcj-1.0.2 pycox-0.2.3 pycryptodomex-3.20.0 pyppmd-1.1.0 pyzstd-0.15.10 texttable-1.7.0\n"
          ]
        }
      ],
      "source": [
        "!pip install torchtuples\n",
        "!pip install pycox"
      ]
    },
    {
      "cell_type": "code",
      "execution_count": null,
      "metadata": {
        "id": "wx8CDAyAV1Fz"
      },
      "outputs": [],
      "source": [
        "import numpy as np\n",
        "import pandas as pd\n",
        "import matplotlib.pyplot as plt\n",
        "from sklearn.preprocessing import StandardScaler\n",
        "from sklearn_pandas import DataFrameMapper\n",
        "\n",
        "import torch\n",
        "import torchtuples as tt\n",
        "\n",
        "from pycox.models import CoxPH\n",
        "from pycox.evaluation import EvalSurv\n",
        "\n",
        "from sklearn.model_selection import ParameterSampler"
      ]
    },
    {
      "cell_type": "code",
      "execution_count": null,
      "metadata": {
        "id": "oMAOktxXV1F2"
      },
      "outputs": [],
      "source": [
        "np.random.seed(1234)\n",
        "_ = torch.manual_seed(123)"
      ]
    },
    {
      "cell_type": "markdown",
      "metadata": {
        "id": "LXF8k8H7V1F2"
      },
      "source": [
        "## 1. Dataset"
      ]
    },
    {
      "cell_type": "code",
      "execution_count": null,
      "metadata": {
        "id": "tRt_yk3VhD8T"
      },
      "outputs": [],
      "source": [
        "#pip install scikit-survival"
      ]
    },
    {
      "cell_type": "code",
      "execution_count": null,
      "metadata": {
        "colab": {
          "base_uri": "https://localhost:8080/"
        },
        "id": "YvZP0hDSgZWW",
        "outputId": "23676eba-5bb4-44f5-ec37-321d398e0eae"
      },
      "outputs": [
        {
          "output_type": "stream",
          "name": "stdout",
          "text": [
            "Mounted at /content/drive\n"
          ]
        }
      ],
      "source": [
        "from google.colab import drive\n",
        "drive.mount('/content/drive')"
      ]
    },
    {
      "cell_type": "code",
      "execution_count": null,
      "metadata": {
        "id": "F3jyV91MV0og"
      },
      "outputs": [],
      "source": [
        "# Read the preprocessed file\n",
        "brca = pd.read_csv('/content/drive/My Drive/3799/brca.csv')"
      ]
    },
    {
      "cell_type": "markdown",
      "metadata": {
        "id": "DxEE0V36Zihb"
      },
      "source": [
        "## 3. Modelling"
      ]
    },
    {
      "cell_type": "markdown",
      "metadata": {
        "id": "ulZOTmbbr-u-"
      },
      "source": [
        "### Train, valid, and test set split"
      ]
    },
    {
      "cell_type": "code",
      "execution_count": null,
      "metadata": {
        "id": "2uwqA0M4N5XH"
      },
      "outputs": [],
      "source": [
        "data = brca"
      ]
    },
    {
      "cell_type": "code",
      "execution_count": null,
      "metadata": {
        "id": "BsdwfKlpI2Fv"
      },
      "outputs": [],
      "source": [
        "from sklearn.model_selection import train_test_split\n",
        "\n",
        "# Splitting the dataset into train, validation, and test sets while maintaining class balance\n",
        "df_train_val, df_test = train_test_split(data, test_size=0.2, random_state=42, stratify=data['status'])\n",
        "df_train, df_val = train_test_split(df_train_val, test_size=0.2, random_state=42, stratify=df_train_val['status'])"
      ]
    },
    {
      "cell_type": "markdown",
      "metadata": {
        "id": "WFjDmtT_V1F4"
      },
      "source": [
        "### Feature transforms\n",
        "All variables needs to be of type `'float32'`, as this is required by pytorch."
      ]
    },
    {
      "cell_type": "code",
      "execution_count": null,
      "metadata": {
        "id": "mI-hwKMJrNPc"
      },
      "outputs": [],
      "source": [
        "from sklearn_pandas import DataFrameMapper\n",
        "# Get a list of all column names in the DataFrame\n",
        "all_cols = data.iloc[:,2:].columns.tolist()\n",
        "\n",
        "# Create a list of tuples for all columns\n",
        "all_cols_tuples = [(col, None) for col in all_cols]\n",
        "\n",
        "# Create the DataFrameMapper object with all columns\n",
        "x_mapper = DataFrameMapper(all_cols_tuples)"
      ]
    },
    {
      "cell_type": "code",
      "execution_count": null,
      "metadata": {
        "id": "4AtyMy1Lth-o"
      },
      "outputs": [],
      "source": [
        "x_train = x_mapper.fit_transform(df_train).astype('float32')\n",
        "x_val = x_mapper.transform(df_val).astype('float32')\n",
        "x_test = x_mapper.transform(df_test).astype('float32')"
      ]
    },
    {
      "cell_type": "code",
      "execution_count": null,
      "metadata": {
        "id": "DidNkMLbV1F6"
      },
      "outputs": [],
      "source": [
        "# Extract target\n",
        "get_target = lambda df: (df['time'].values, df['status'].values)\n",
        "y_train = get_target(df_train)\n",
        "y_val = get_target(df_val)\n",
        "y_test=get_target(df_test)\n",
        "durations_test, events_test = get_target(df_test)\n",
        "val = x_val, y_val"
      ]
    },
    {
      "cell_type": "markdown",
      "metadata": {
        "id": "QoUzG-6iV1F7"
      },
      "source": [
        "### Neural net\n",
        "\n",
        "We create a simple MLP with two hidden layers, ReLU activations, batch norm and dropout.\n",
        "Here, we just use the `torchtuples.practical.MLPVanilla` net to do this.\n",
        "\n",
        "Note that we set `out_features` to 1, and that we have not `output_bias`."
      ]
    },
    {
      "cell_type": "code",
      "execution_count": null,
      "metadata": {
        "id": "K22V0jkPgSWn"
      },
      "outputs": [],
      "source": [
        "from sklearn.base import BaseEstimator\n",
        "\n",
        "class DeepSURVSklearnAdapter(BaseEstimator):\n",
        "    def __init__(\n",
        "        self,\n",
        "        learning_rate=1e-4,\n",
        "        batch_norm=True,\n",
        "        dropout=0.0,\n",
        "        num_nodes=[32, 32],\n",
        "        batch_size=128,\n",
        "        epochs=10,\n",
        "    ):\n",
        "        self.learning_rate = learning_rate\n",
        "        self.batch_norm = batch_norm\n",
        "        self.dropout = dropout\n",
        "        self.num_nodes = num_nodes\n",
        "        self.batch_size = batch_size\n",
        "        self.epochs = epochs\n",
        "\n",
        "    def fit(self, X, y):\n",
        "        self.net_ = tt.practical.MLPVanilla(\n",
        "            X.shape[1],\n",
        "            self.num_nodes,\n",
        "            1,\n",
        "            self.batch_norm,\n",
        "            self.dropout,\n",
        "            output_bias = False, # prevent overfitting/simplify the model\n",
        "        )\n",
        "        self.deepsurv_ = CoxPH(self.net_, tt.optim.Adam)\n",
        "        self.deepsurv_.optimizer.set_lr(self.learning_rate)\n",
        "\n",
        "        # Sklearn needs the y inputs to be arranged as a matrix with each row\n",
        "        # corresponding to an example but CoxPH needs a tuple with two arrays?\n",
        "        y_ = (y[0], y[1])\n",
        "\n",
        "        callbacks = [tt.callbacks.EarlyStopping()]\n",
        "        log = self.deepsurv_.fit(\n",
        "            X,\n",
        "            y_,\n",
        "            self.batch_size,\n",
        "            self.epochs,\n",
        "            verbose=False,\n",
        "        )\n",
        "\n",
        "        return self\n",
        "\n",
        "    def score(self, X, y):\n",
        "        _ = self.deepsurv_.compute_baseline_hazards()\n",
        "        surv = self.deepsurv_.predict_surv_df(X)\n",
        "\n",
        "        ev = EvalSurv(\n",
        "            surv,\n",
        "            y[0],  # time to event\n",
        "            y[1],  # event\n",
        "            censor_surv=\"km\",\n",
        "        )\n",
        "\n",
        "        return ev.concordance_td()\n",
        "\n",
        "    def brier_score(self, X, y, time_grid):\n",
        "        _ = self.deepsurv_.compute_baseline_hazards()\n",
        "        surv = self.deepsurv_.predict_surv_df(X)\n",
        "\n",
        "        ev = EvalSurv(\n",
        "            surv,\n",
        "            y[0],  # time to event\n",
        "            y[1],  # event\n",
        "            censor_surv=\"km\",\n",
        "        )\n",
        "\n",
        "        return ev.brier_score(time_grid)\n",
        "\n",
        "    def integrated_brier_score(self, X, y, time_grid):\n",
        "        _ = self.deepsurv_.compute_baseline_hazards()\n",
        "        surv = self.deepsurv_.predict_surv_df(X)\n",
        "\n",
        "        ev = EvalSurv(\n",
        "            surv,\n",
        "            y[0],  # time to event\n",
        "            y[1],  # event\n",
        "            censor_surv=\"km\",\n",
        "        )\n",
        "\n",
        "        return ev.integrated_brier_score(time_grid)\n",
        "\n",
        "    def predict(self, X):\n",
        "        # Predict survival probabilities for X\n",
        "        return self.deepsurv_.predict_surv_df(X)"
      ]
    },
    {
      "cell_type": "code",
      "execution_count": null,
      "metadata": {
        "id": "kalL7SH4Ts5B"
      },
      "outputs": [],
      "source": [
        "import warnings\n",
        "# Ignore FutureWarnings related to is_monotonic deprecation\n",
        "warnings.filterwarnings(\"ignore\", message=\"is_monotonic is deprecated\")"
      ]
    },
    {
      "cell_type": "code",
      "execution_count": null,
      "metadata": {
        "colab": {
          "base_uri": "https://localhost:8080/"
        },
        "id": "eRMc2dOfnKN-",
        "outputId": "05ac752e-8485-4c1f-ea56-0411a4141cf1"
      },
      "outputs": [
        {
          "output_type": "stream",
          "name": "stdout",
          "text": [
            "Current parameters: {'num_nodes': [32, 32], 'learning_rate': 0.1, 'epochs': 512, 'dropout': 0.1, 'batch_size': 512}\n",
            "C-index: 0.618\n",
            "========================================\n",
            "Current parameters: {'num_nodes': [64, 64], 'learning_rate': 0.01, 'epochs': 512, 'dropout': 0.2, 'batch_size': 512}\n",
            "C-index: 0.631\n",
            "========================================\n",
            "Current parameters: {'num_nodes': [32, 32], 'learning_rate': 0.01, 'epochs': 512, 'dropout': 0.1, 'batch_size': 512}\n",
            "C-index: 0.602\n",
            "========================================\n",
            "Current parameters: {'num_nodes': [32, 32], 'learning_rate': 0.001, 'epochs': 512, 'dropout': 0.0, 'batch_size': 256}\n",
            "C-index: 0.582\n",
            "========================================\n",
            "Current parameters: {'num_nodes': [32, 64], 'learning_rate': 0.1, 'epochs': 512, 'dropout': 0.2, 'batch_size': 256}\n",
            "C-index: 0.617\n",
            "========================================\n",
            "Current parameters: {'num_nodes': [64, 64], 'learning_rate': 0.001, 'epochs': 512, 'dropout': 0.2, 'batch_size': 128}\n",
            "C-index: 0.615\n",
            "========================================\n",
            "Current parameters: {'num_nodes': [64, 64], 'learning_rate': 0.1, 'epochs': 512, 'dropout': 0.1, 'batch_size': 128}\n",
            "C-index: 0.619\n",
            "========================================\n",
            "Current parameters: {'num_nodes': [32, 64], 'learning_rate': 0.001, 'epochs': 512, 'dropout': 0.1, 'batch_size': 256}\n",
            "C-index: 0.591\n",
            "========================================\n",
            "Current parameters: {'num_nodes': [32, 64], 'learning_rate': 0.1, 'epochs': 512, 'dropout': 0.0, 'batch_size': 256}\n"
          ]
        },
        {
          "output_type": "stream",
          "name": "stderr",
          "text": [
            "/usr/local/lib/python3.10/dist-packages/pycox/models/cox.py:231: RuntimeWarning: overflow encountered in exp\n",
            "  .assign(expg=np.exp(self.predict(input, batch_size, True, eval_, num_workers=num_workers)))\n",
            "/usr/local/lib/python3.10/dist-packages/pycox/models/cox.py:251: RuntimeWarning: overflow encountered in exp\n",
            "  expg = np.exp(self.predict(input, batch_size, True, eval_, num_workers=num_workers)).reshape(1, -1)\n"
          ]
        },
        {
          "output_type": "stream",
          "name": "stdout",
          "text": [
            "C-index: 0.0\n",
            "========================================\n",
            "Current parameters: {'num_nodes': [32, 64], 'learning_rate': 0.001, 'epochs': 512, 'dropout': 0.0, 'batch_size': 128}\n",
            "C-index: 0.58\n",
            "========================================\n",
            "Best parameters: {'num_nodes': [64, 64], 'learning_rate': 0.01, 'epochs': 512, 'dropout': 0.2, 'batch_size': 512}\n",
            "Best C-index: 0.6308002689979825\n"
          ]
        }
      ],
      "source": [
        "# Define the parameter grid for random search\n",
        "param_grid = {\n",
        "    'learning_rate': [1e-1, 1e-2, 1e-3, 1e-4],\n",
        "    'dropout': [0.0, 0.1, 0.2],\n",
        "    'num_nodes': [[32, 32], [64, 64], [32, 64]],\n",
        "    'batch_size': [128, 256, 512],\n",
        "    'epochs': [512]\n",
        "}\n",
        "\n",
        "# Define the number of parameter settings that will be sampled\n",
        "n_iter = 10\n",
        "\n",
        "# Perform random search\n",
        "random_search = ParameterSampler(param_grid, n_iter=n_iter, random_state=123)\n",
        "\n",
        "best_score = float('-inf')\n",
        "best_params = None\n",
        "\n",
        "for params in random_search:\n",
        "    print(\"Current parameters:\", params)\n",
        "    model = DeepSURVSklearnAdapter(**params)\n",
        "    model.fit(x_train, y_train)\n",
        "    c_index = model.score(x_val, y_val)\n",
        "    print(\"C-index:\", round(c_index,3))\n",
        "    if c_index > best_score:\n",
        "        best_score = c_index\n",
        "        best_params = params\n",
        "    print(\"=\" * 40)\n",
        "\n",
        "print(\"Best parameters:\", best_params)\n",
        "print(\"Best C-index:\", best_score)"
      ]
    },
    {
      "cell_type": "markdown",
      "metadata": {
        "id": "UKPWHwjNzhyq"
      },
      "source": [
        "## Evaluation and Prediction"
      ]
    },
    {
      "cell_type": "code",
      "execution_count": null,
      "metadata": {
        "id": "hDpEK4CvP7RN"
      },
      "outputs": [],
      "source": [
        "# Initialize lists to store C-index and integrated Brier score\n",
        "c_index_scores = []\n",
        "integrated_brier_scores = []\n",
        "\n",
        "# Repeat the process 20 times\n",
        "for _ in range(20):\n",
        "    # Create and train the best model with the best parameters\n",
        "    best_model = DeepSURVSklearnAdapter(**best_params)\n",
        "    best_model.fit(x_train, y_train)\n",
        "\n",
        "    # Evaluate the best model on the test data\n",
        "    c_index = best_model.score(x_test, y_test)\n",
        "    c_index_scores.append(c_index)\n",
        "\n",
        "    # Calculate integrated Brier score\n",
        "    time_grid = np.linspace(durations_test.min(), durations_test.max(), 100)\n",
        "    integrated_brier = best_model.integrated_brier_score(x_test, y_test, time_grid)\n",
        "    integrated_brier_scores.append(integrated_brier)"
      ]
    },
    {
      "cell_type": "code",
      "execution_count": null,
      "metadata": {
        "colab": {
          "base_uri": "https://localhost:8080/"
        },
        "id": "2OUTu_5-QMvj",
        "outputId": "2bd0a3f5-5440-42dc-a4f2-079553894f8c"
      },
      "outputs": [
        {
          "output_type": "stream",
          "name": "stdout",
          "text": [
            "Mean C-index: 0.721\n",
            "Mean integrated Brier score: 0.195\n"
          ]
        }
      ],
      "source": [
        "# Calculate the mean C-index and integrated Brier score\n",
        "mean_c_index = np.mean(c_index_scores)\n",
        "mean_integrated_brier = np.mean(integrated_brier_scores)\n",
        "\n",
        "print(\"Mean C-index:\", round(mean_c_index, 3))\n",
        "print(\"Mean integrated Brier score:\", round(mean_integrated_brier, 3))"
      ]
    },
    {
      "cell_type": "code",
      "execution_count": null,
      "metadata": {
        "colab": {
          "base_uri": "https://localhost:8080/",
          "height": 367
        },
        "id": "OneyOJB3QPYZ",
        "outputId": "46978e1c-594c-4174-ae4f-18de1e704db7"
      },
      "outputs": [
        {
          "output_type": "display_data",
          "data": {
            "text/plain": [
              "<Figure size 600x400 with 1 Axes>"
            ],
            "image/png": "[encoded data removed]"
          },
          "metadata": {}
        }
      ],
      "source": [
        "# Plot boxplot of C-index scores over 20 replicates\n",
        "plt.figure(figsize=(6, 4))\n",
        "plt.boxplot(c_index_scores)\n",
        "plt.title('Boxplot of C-index Scores over 20 Replicates')\n",
        "plt.ylabel('C-index')\n",
        "plt.xticks([])\n",
        "plt.show()"
      ]
    },
    {
      "cell_type": "code",
      "execution_count": null,
      "metadata": {
        "colab": {
          "base_uri": "https://localhost:8080/",
          "height": 367
        },
        "id": "fjX1HIehQQtY",
        "outputId": "2b16e383-f9b1-4cd5-a424-ace410fdd5bf"
      },
      "outputs": [
        {
          "output_type": "display_data",
          "data": {
            "text/plain": [
              "<Figure size 600x400 with 1 Axes>"
            ],
            "image/png": "[encoded data removed]"
          },
          "metadata": {}
        }
      ],
      "source": [
        "# Plot boxplot of integrated Brier scores\n",
        "plt.figure(figsize=(6, 4))\n",
        "plt.boxplot(integrated_brier_scores)\n",
        "plt.title('Boxplot of Integrated Brier Scores over 20 Replicates')\n",
        "plt.ylabel('Integrated Brier Score')\n",
        "plt.xticks([])\n",
        "plt.show()"
      ]
    }
  ],
  "metadata": {
    "colab": {
      "collapsed_sections": [
        "3G7Zw9dSRHWQ"
      ],
      "provenance": [],
      "gpuType": "T4"
    },
    "kernelspec": {
      "display_name": "Python 3",
      "name": "python3"
    },
    "language_info": {
      "codemirror_mode": {
        "name": "ipython",
        "version": 3
      },
      "file_extension": ".py",
      "mimetype": "text/x-python",
      "name": "python",
      "nbconvert_exporter": "python",
      "pygments_lexer": "ipython3",
      "version": "3.7.4"
    },
    "accelerator": "GPU"
  },
  "nbformat": 4,
  "nbformat_minor": 0
}