{
  "cells": [
    {
      "cell_type": "markdown",
      "metadata": {
        "id": "_fINXWTiV1Fu"
      },
      "source": [
        "# DeepSurv\n",
        "\n",
        "In this notebook we will train the [Cox-PH method](http://jmlr.org/papers/volume20/18-424/18-424.pdf), also known as [DeepSurv](https://bmcmedresmethodol.biomedcentral.com/articles/10.1186/s12874-018-0482-1)."
      ]
    },
    {
      "cell_type": "code",
      "execution_count": 2,
      "metadata": {
        "colab": {
          "base_uri": "https://localhost:8080/"
        },
        "id": "njmtOoQkWKrs",
        "outputId": "42798782-6472-4c4c-cfb5-c15ea4f27ac0"
      },
      "outputs": [
        {
          "output_type": "stream",
          "name": "stdout",
          "text": [
            "Collecting torchtuples\n",
            "  Downloading torchtuples-0.2.2-py3-none-any.whl (41 kB)\n",
            "\u001b[2K     \u001b[90m━━━━━━━━━━━━━━━━━━━━━━━━━━━━━━━━━━━━━━━━\u001b[0m \u001b[32m41.9/41.9 kB\u001b[0m \u001b[31m970.1 kB/s\u001b[0m eta \u001b[36m0:00:00\u001b[0m\n",
            "\u001b[?25hRequirement already satisfied: numpy>=1.15.4 in /usr/local/lib/python3.10/dist-packages (from torchtuples) (1.25.2)\n",
            "Requirement already satisfied: pandas>=0.24.2 in /usr/local/lib/python3.10/dist-packages (from torchtuples) (2.0.3)\n",
            "Requirement already satisfied: matplotlib>=3.0.3 in /usr/local/lib/python3.10/dist-packages (from torchtuples) (3.7.1)\n",
            "Requirement already satisfied: contourpy>=1.0.1 in /usr/local/lib/python3.10/dist-packages (from matplotlib>=3.0.3->torchtuples) (1.2.1)\n",
            "Requirement already satisfied: cycler>=0.10 in /usr/local/lib/python3.10/dist-packages (from matplotlib>=3.0.3->torchtuples) (0.12.1)\n",
            "Requirement already satisfied: fonttools>=4.22.0 in /usr/local/lib/python3.10/dist-packages (from matplotlib>=3.0.3->torchtuples) (4.51.0)\n",
            "Requirement already satisfied: kiwisolver>=1.0.1 in /usr/local/lib/python3.10/dist-packages (from matplotlib>=3.0.3->torchtuples) (1.4.5)\n",
            "Requirement already satisfied: packaging>=20.0 in /usr/local/lib/python3.10/dist-packages (from matplotlib>=3.0.3->torchtuples) (24.0)\n",
            "Requirement already satisfied: pillow>=6.2.0 in /usr/local/lib/python3.10/dist-packages (from matplotlib>=3.0.3->torchtuples) (9.4.0)\n",
            "Requirement already satisfied: pyparsing>=2.3.1 in /usr/local/lib/python3.10/dist-packages (from matplotlib>=3.0.3->torchtuples) (3.1.2)\n",
            "Requirement already satisfied: python-dateutil>=2.7 in /usr/local/lib/python3.10/dist-packages (from matplotlib>=3.0.3->torchtuples) (2.8.2)\n",
            "Requirement already satisfied: pytz>=2020.1 in /usr/local/lib/python3.10/dist-packages (from pandas>=0.24.2->torchtuples) (2023.4)\n",
            "Requirement already satisfied: tzdata>=2022.1 in /usr/local/lib/python3.10/dist-packages (from pandas>=0.24.2->torchtuples) (2024.1)\n",
            "Requirement already satisfied: six>=1.5 in /usr/local/lib/python3.10/dist-packages (from python-dateutil>=2.7->matplotlib>=3.0.3->torchtuples) (1.16.0)\n",
            "Installing collected packages: torchtuples\n",
            "Successfully installed torchtuples-0.2.2\n",
            "Collecting pycox\n",
            "  Downloading pycox-0.2.3-py3-none-any.whl (73 kB)\n",
            "\u001b[2K     \u001b[90m━━━━━━━━━━━━━━━━━━━━━━━━━━━━━━━━━━━━━━━━\u001b[0m \u001b[32m73.7/73.7 kB\u001b[0m \u001b[31m1.1 MB/s\u001b[0m eta \u001b[36m0:00:00\u001b[0m\n",
            "\u001b[?25hRequirement already satisfied: torchtuples>=0.2.0 in /usr/local/lib/python3.10/dist-packages (from pycox) (0.2.2)\n",
            "Collecting feather-format>=0.4.0 (from pycox)\n",
            "  Downloading feather-format-0.4.1.tar.gz (3.2 kB)\n",
            "  Preparing metadata (setup.py) ... \u001b[?25l\u001b[?25hdone\n",
            "Requirement already satisfied: h5py>=2.9.0 in /usr/local/lib/python3.10/dist-packages (from pycox) (3.9.0)\n",
            "Requirement already satisfied: numba>=0.44 in /usr/local/lib/python3.10/dist-packages (from pycox) (0.58.1)\n",
            "Requirement already satisfied: scikit-learn>=0.21.2 in /usr/local/lib/python3.10/dist-packages (from pycox) (1.2.2)\n",
            "Requirement already satisfied: requests>=2.22.0 in /usr/local/lib/python3.10/dist-packages (from pycox) (2.31.0)\n",
            "Collecting py7zr>=0.11.3 (from pycox)\n",
            "  Downloading py7zr-0.21.0-py3-none-any.whl (67 kB)\n",
            "\u001b[2K     \u001b[90m━━━━━━━━━━━━━━━━━━━━━━━━━━━━━━━━━━━━━━━━\u001b[0m \u001b[32m67.6/67.6 kB\u001b[0m \u001b[31m5.0 MB/s\u001b[0m eta \u001b[36m0:00:00\u001b[0m\n",
            "\u001b[?25hRequirement already satisfied: pyarrow>=0.4.0 in /usr/local/lib/python3.10/dist-packages (from feather-format>=0.4.0->pycox) (14.0.2)\n",
            "Requirement already satisfied: numpy>=1.17.3 in /usr/local/lib/python3.10/dist-packages (from h5py>=2.9.0->pycox) (1.25.2)\n",
            "Requirement already satisfied: llvmlite<0.42,>=0.41.0dev0 in /usr/local/lib/python3.10/dist-packages (from numba>=0.44->pycox) (0.41.1)\n",
            "Collecting texttable (from py7zr>=0.11.3->pycox)\n",
            "  Downloading texttable-1.7.0-py2.py3-none-any.whl (10 kB)\n",
            "Collecting pycryptodomex>=3.16.0 (from py7zr>=0.11.3->pycox)\n",
            "  Downloading pycryptodomex-3.20.0-cp35-abi3-manylinux_2_17_x86_64.manylinux2014_x86_64.whl (2.1 MB)\n",
            "\u001b[2K     \u001b[90m━━━━━━━━━━━━━━━━━━━━━━━━━━━━━━━━━━━━━━━━\u001b[0m \u001b[32m2.1/2.1 MB\u001b[0m \u001b[31m12.6 MB/s\u001b[0m eta \u001b[36m0:00:00\u001b[0m\n",
            "\u001b[?25hCollecting pyzstd>=0.15.9 (from py7zr>=0.11.3->pycox)\n",
            "  Downloading pyzstd-0.15.10-cp310-cp310-manylinux_2_17_x86_64.manylinux2014_x86_64.whl (411 kB)\n",
            "\u001b[2K     \u001b[90m━━━━━━━━━━━━━━━━━━━━━━━━━━━━━━━━━━━━━━━━\u001b[0m \u001b[32m411.2/411.2 kB\u001b[0m \u001b[31m33.7 MB/s\u001b[0m eta \u001b[36m0:00:00\u001b[0m\n",
            "\u001b[?25hCollecting pyppmd<1.2.0,>=1.1.0 (from py7zr>=0.11.3->pycox)\n",
            "  Downloading pyppmd-1.1.0-cp310-cp310-manylinux_2_17_x86_64.manylinux2014_x86_64.whl (138 kB)\n",
            "\u001b[2K     \u001b[90m━━━━━━━━━━━━━━━━━━━━━━━━━━━━━━━━━━━━━━━━\u001b[0m \u001b[32m138.9/138.9 kB\u001b[0m \u001b[31m15.4 MB/s\u001b[0m eta \u001b[36m0:00:00\u001b[0m\n",
            "\u001b[?25hCollecting pybcj<1.1.0,>=1.0.0 (from py7zr>=0.11.3->pycox)\n",
            "  Downloading pybcj-1.0.2-cp310-cp310-manylinux_2_17_x86_64.manylinux2014_x86_64.whl (49 kB)\n",
            "\u001b[2K     \u001b[90m━━━━━━━━━━━━━━━━━━━━━━━━━━━━━━━━━━━━━━━━\u001b[0m \u001b[32m49.7/49.7 kB\u001b[0m \u001b[31m5.6 MB/s\u001b[0m eta \u001b[36m0:00:00\u001b[0m\n",
            "\u001b[?25hCollecting multivolumefile>=0.2.3 (from py7zr>=0.11.3->pycox)\n",
            "  Downloading multivolumefile-0.2.3-py3-none-any.whl (17 kB)\n",
            "Collecting inflate64<1.1.0,>=1.0.0 (from py7zr>=0.11.3->pycox)\n",
            "  Downloading inflate64-1.0.0-cp310-cp310-manylinux_2_17_x86_64.manylinux2014_x86_64.whl (93 kB)\n",
            "\u001b[2K     \u001b[90m━━━━━━━━━━━━━━━━━━━━━━━━━━━━━━━━━━━━━━━━\u001b[0m \u001b[32m93.1/93.1 kB\u001b[0m \u001b[31m13.1 MB/s\u001b[0m eta \u001b[36m0:00:00\u001b[0m\n",
            "\u001b[?25hCollecting brotli>=1.1.0 (from py7zr>=0.11.3->pycox)\n",
            "  Downloading Brotli-1.1.0-cp310-cp310-manylinux_2_5_x86_64.manylinux1_x86_64.manylinux_2_12_x86_64.manylinux2010_x86_64.whl (3.0 MB)\n",
            "\u001b[2K     \u001b[90m━━━━━━━━━━━━━━━━━━━━━━━━━━━━━━━━━━━━━━━━\u001b[0m \u001b[32m3.0/3.0 MB\u001b[0m \u001b[31m47.7 MB/s\u001b[0m eta \u001b[36m0:00:00\u001b[0m\n",
            "\u001b[?25hRequirement already satisfied: psutil in /usr/local/lib/python3.10/dist-packages (from py7zr>=0.11.3->pycox) (5.9.5)\n",
            "Requirement already satisfied: charset-normalizer<4,>=2 in /usr/local/lib/python3.10/dist-packages (from requests>=2.22.0->pycox) (3.3.2)\n",
            "Requirement already satisfied: idna<4,>=2.5 in /usr/local/lib/python3.10/dist-packages (from requests>=2.22.0->pycox) (3.7)\n",
            "Requirement already satisfied: urllib3<3,>=1.21.1 in /usr/local/lib/python3.10/dist-packages (from requests>=2.22.0->pycox) (2.0.7)\n",
            "Requirement already satisfied: certifi>=2017.4.17 in /usr/local/lib/python3.10/dist-packages (from requests>=2.22.0->pycox) (2024.2.2)\n",
            "Requirement already satisfied: scipy>=1.3.2 in /usr/local/lib/python3.10/dist-packages (from scikit-learn>=0.21.2->pycox) (1.11.4)\n",
            "Requirement already satisfied: joblib>=1.1.1 in /usr/local/lib/python3.10/dist-packages (from scikit-learn>=0.21.2->pycox) (1.4.0)\n",
            "Requirement already satisfied: threadpoolctl>=2.0.0 in /usr/local/lib/python3.10/dist-packages (from scikit-learn>=0.21.2->pycox) (3.4.0)\n",
            "Requirement already satisfied: pandas>=0.24.2 in /usr/local/lib/python3.10/dist-packages (from torchtuples>=0.2.0->pycox) (2.0.3)\n",
            "Requirement already satisfied: matplotlib>=3.0.3 in /usr/local/lib/python3.10/dist-packages (from torchtuples>=0.2.0->pycox) (3.7.1)\n",
            "Requirement already satisfied: contourpy>=1.0.1 in /usr/local/lib/python3.10/dist-packages (from matplotlib>=3.0.3->torchtuples>=0.2.0->pycox) (1.2.1)\n",
            "Requirement already satisfied: cycler>=0.10 in /usr/local/lib/python3.10/dist-packages (from matplotlib>=3.0.3->torchtuples>=0.2.0->pycox) (0.12.1)\n",
            "Requirement already satisfied: fonttools>=4.22.0 in /usr/local/lib/python3.10/dist-packages (from matplotlib>=3.0.3->torchtuples>=0.2.0->pycox) (4.51.0)\n",
            "Requirement already satisfied: kiwisolver>=1.0.1 in /usr/local/lib/python3.10/dist-packages (from matplotlib>=3.0.3->torchtuples>=0.2.0->pycox) (1.4.5)\n",
            "Requirement already satisfied: packaging>=20.0 in /usr/local/lib/python3.10/dist-packages (from matplotlib>=3.0.3->torchtuples>=0.2.0->pycox) (24.0)\n",
            "Requirement already satisfied: pillow>=6.2.0 in /usr/local/lib/python3.10/dist-packages (from matplotlib>=3.0.3->torchtuples>=0.2.0->pycox) (9.4.0)\n",
            "Requirement already satisfied: pyparsing>=2.3.1 in /usr/local/lib/python3.10/dist-packages (from matplotlib>=3.0.3->torchtuples>=0.2.0->pycox) (3.1.2)\n",
            "Requirement already satisfied: python-dateutil>=2.7 in /usr/local/lib/python3.10/dist-packages (from matplotlib>=3.0.3->torchtuples>=0.2.0->pycox) (2.8.2)\n",
            "Requirement already satisfied: pytz>=2020.1 in /usr/local/lib/python3.10/dist-packages (from pandas>=0.24.2->torchtuples>=0.2.0->pycox) (2023.4)\n",
            "Requirement already satisfied: tzdata>=2022.1 in /usr/local/lib/python3.10/dist-packages (from pandas>=0.24.2->torchtuples>=0.2.0->pycox) (2024.1)\n",
            "Requirement already satisfied: six>=1.5 in /usr/local/lib/python3.10/dist-packages (from python-dateutil>=2.7->matplotlib>=3.0.3->torchtuples>=0.2.0->pycox) (1.16.0)\n",
            "Building wheels for collected packages: feather-format\n",
            "  Building wheel for feather-format (setup.py) ... \u001b[?25l\u001b[?25hdone\n",
            "  Created wheel for feather-format: filename=feather_format-0.4.1-py3-none-any.whl size=2436 sha256=0e02dd215efd281b7cb088303f13408b7072bc29da89bce3951e72ce1ccb58b8\n",
            "  Stored in directory: /root/.cache/pip/wheels/a6/ff/5d/4f10de26fe5ddef243c97f13c6cf579d7353d659e41a05c3a6\n",
            "Successfully built feather-format\n",
            "Installing collected packages: texttable, brotli, pyzstd, pyppmd, pycryptodomex, pybcj, multivolumefile, inflate64, py7zr, feather-format, pycox\n",
            "Successfully installed brotli-1.1.0 feather-format-0.4.1 inflate64-1.0.0 multivolumefile-0.2.3 py7zr-0.21.0 pybcj-1.0.2 pycox-0.2.3 pycryptodomex-3.20.0 pyppmd-1.1.0 pyzstd-0.15.10 texttable-1.7.0\n"
          ]
        }
      ],
      "source": [
        "!pip install torchtuples\n",
        "!pip install pycox"
      ]
    },
    {
      "cell_type": "code",
      "execution_count": 3,
      "metadata": {
        "colab": {
          "base_uri": "https://localhost:8080/"
        },
        "id": "MaA99KCbBO8I",
        "outputId": "fe989ba0-6629-463a-d070-9b0fcd119d64"
      },
      "outputs": [
        {
          "output_type": "stream",
          "name": "stdout",
          "text": [
            "Collecting pandas==1.4.4\n",
            "  Downloading pandas-1.4.4-cp310-cp310-manylinux_2_17_x86_64.manylinux2014_x86_64.whl (11.6 MB)\n",
            "\u001b[2K     \u001b[90m━━━━━━━━━━━━━━━━━━━━━━━━━━━━━━━━━━━━━━━━\u001b[0m \u001b[32m11.6/11.6 MB\u001b[0m \u001b[31m28.3 MB/s\u001b[0m eta \u001b[36m0:00:00\u001b[0m\n",
            "\u001b[?25hRequirement already satisfied: python-dateutil>=2.8.1 in /usr/local/lib/python3.10/dist-packages (from pandas==1.4.4) (2.8.2)\n",
            "Requirement already satisfied: pytz>=2020.1 in /usr/local/lib/python3.10/dist-packages (from pandas==1.4.4) (2023.4)\n",
            "Requirement already satisfied: numpy>=1.21.0 in /usr/local/lib/python3.10/dist-packages (from pandas==1.4.4) (1.25.2)\n",
            "Requirement already satisfied: six>=1.5 in /usr/local/lib/python3.10/dist-packages (from python-dateutil>=2.8.1->pandas==1.4.4) (1.16.0)\n",
            "Installing collected packages: pandas\n",
            "  Attempting uninstall: pandas\n",
            "    Found existing installation: pandas 2.0.3\n",
            "    Uninstalling pandas-2.0.3:\n",
            "      Successfully uninstalled pandas-2.0.3\n",
            "\u001b[31mERROR: pip's dependency resolver does not currently take into account all the packages that are installed. This behaviour is the source of the following dependency conflicts.\n",
            "bigframes 1.2.0 requires pandas>=1.5.0, but you have pandas 1.4.4 which is incompatible.\n",
            "google-colab 1.0.0 requires pandas==2.0.3, but you have pandas 1.4.4 which is incompatible.\n",
            "plotnine 0.12.4 requires pandas>=1.5.0, but you have pandas 1.4.4 which is incompatible.\u001b[0m\u001b[31m\n",
            "\u001b[0mSuccessfully installed pandas-1.4.4\n"
          ]
        }
      ],
      "source": [
        "# downgrade of pandas is needed too use \"is_monotonic\" in the package\n",
        "!pip install pandas==1.4.4"
      ]
    },
    {
      "cell_type": "code",
      "execution_count": 4,
      "metadata": {
        "colab": {
          "base_uri": "https://localhost:8080/"
        },
        "id": "M1nx-aOx00oZ",
        "outputId": "d1b43e21-0852-4a55-dee8-0b585dcf9346"
      },
      "outputs": [
        {
          "output_type": "stream",
          "name": "stdout",
          "text": [
            "Collecting lifelines\n",
            "  Downloading lifelines-0.28.0-py3-none-any.whl (349 kB)\n",
            "\u001b[2K     \u001b[90m━━━━━━━━━━━━━━━━━━━━━━━━━━━━━━━━━━━━━━━━\u001b[0m \u001b[32m349.2/349.2 kB\u001b[0m \u001b[31m2.2 MB/s\u001b[0m eta \u001b[36m0:00:00\u001b[0m\n",
            "\u001b[?25hRequirement already satisfied: numpy<2.0,>=1.14.0 in /usr/local/lib/python3.10/dist-packages (from lifelines) (1.25.2)\n",
            "Requirement already satisfied: scipy>=1.2.0 in /usr/local/lib/python3.10/dist-packages (from lifelines) (1.11.4)\n",
            "Requirement already satisfied: pandas>=1.2.0 in /usr/local/lib/python3.10/dist-packages (from lifelines) (1.4.4)\n",
            "Requirement already satisfied: matplotlib>=3.0 in /usr/local/lib/python3.10/dist-packages (from lifelines) (3.7.1)\n",
            "Requirement already satisfied: autograd>=1.5 in /usr/local/lib/python3.10/dist-packages (from lifelines) (1.6.2)\n",
            "Collecting autograd-gamma>=0.3 (from lifelines)\n",
            "  Downloading autograd-gamma-0.5.0.tar.gz (4.0 kB)\n",
            "  Preparing metadata (setup.py) ... \u001b[?25l\u001b[?25hdone\n",
            "Collecting formulaic>=0.2.2 (from lifelines)\n",
            "  Downloading formulaic-1.0.1-py3-none-any.whl (94 kB)\n",
            "\u001b[2K     \u001b[90m━━━━━━━━━━━━━━━━━━━━━━━━━━━━━━━━━━━━━━━━\u001b[0m \u001b[32m94.2/94.2 kB\u001b[0m \u001b[31m10.3 MB/s\u001b[0m eta \u001b[36m0:00:00\u001b[0m\n",
            "\u001b[?25hRequirement already satisfied: future>=0.15.2 in /usr/local/lib/python3.10/dist-packages (from autograd>=1.5->lifelines) (0.18.3)\n",
            "Collecting interface-meta>=1.2.0 (from formulaic>=0.2.2->lifelines)\n",
            "  Downloading interface_meta-1.3.0-py3-none-any.whl (14 kB)\n",
            "Requirement already satisfied: typing-extensions>=4.2.0 in /usr/local/lib/python3.10/dist-packages (from formulaic>=0.2.2->lifelines) (4.11.0)\n",
            "Requirement already satisfied: wrapt>=1.0 in /usr/local/lib/python3.10/dist-packages (from formulaic>=0.2.2->lifelines) (1.14.1)\n",
            "Requirement already satisfied: contourpy>=1.0.1 in /usr/local/lib/python3.10/dist-packages (from matplotlib>=3.0->lifelines) (1.2.1)\n",
            "Requirement already satisfied: cycler>=0.10 in /usr/local/lib/python3.10/dist-packages (from matplotlib>=3.0->lifelines) (0.12.1)\n",
            "Requirement already satisfied: fonttools>=4.22.0 in /usr/local/lib/python3.10/dist-packages (from matplotlib>=3.0->lifelines) (4.51.0)\n",
            "Requirement already satisfied: kiwisolver>=1.0.1 in /usr/local/lib/python3.10/dist-packages (from matplotlib>=3.0->lifelines) (1.4.5)\n",
            "Requirement already satisfied: packaging>=20.0 in /usr/local/lib/python3.10/dist-packages (from matplotlib>=3.0->lifelines) (24.0)\n",
            "Requirement already satisfied: pillow>=6.2.0 in /usr/local/lib/python3.10/dist-packages (from matplotlib>=3.0->lifelines) (9.4.0)\n",
            "Requirement already satisfied: pyparsing>=2.3.1 in /usr/local/lib/python3.10/dist-packages (from matplotlib>=3.0->lifelines) (3.1.2)\n",
            "Requirement already satisfied: python-dateutil>=2.7 in /usr/local/lib/python3.10/dist-packages (from matplotlib>=3.0->lifelines) (2.8.2)\n",
            "Requirement already satisfied: pytz>=2020.1 in /usr/local/lib/python3.10/dist-packages (from pandas>=1.2.0->lifelines) (2023.4)\n",
            "Requirement already satisfied: six>=1.5 in /usr/local/lib/python3.10/dist-packages (from python-dateutil>=2.7->matplotlib>=3.0->lifelines) (1.16.0)\n",
            "Building wheels for collected packages: autograd-gamma\n",
            "  Building wheel for autograd-gamma (setup.py) ... \u001b[?25l\u001b[?25hdone\n",
            "  Created wheel for autograd-gamma: filename=autograd_gamma-0.5.0-py3-none-any.whl size=4030 sha256=dc0128327210a443d23cdf34aba89cbbdde8b2ebfcf6d3417cbcb12058069564\n",
            "  Stored in directory: /root/.cache/pip/wheels/25/cc/e0/ef2969164144c899fedb22b338f6703e2b9cf46eeebf254991\n",
            "Successfully built autograd-gamma\n",
            "Installing collected packages: interface-meta, autograd-gamma, formulaic, lifelines\n",
            "Successfully installed autograd-gamma-0.5.0 formulaic-1.0.1 interface-meta-1.3.0 lifelines-0.28.0\n"
          ]
        }
      ],
      "source": [
        "pip install lifelines"
      ]
    },
    {
      "cell_type": "code",
      "execution_count": 5,
      "metadata": {
        "id": "wx8CDAyAV1Fz"
      },
      "outputs": [],
      "source": [
        "import numpy as np\n",
        "import pandas as pd\n",
        "import matplotlib.pyplot as plt\n",
        "from sklearn.preprocessing import StandardScaler\n",
        "from sklearn_pandas import DataFrameMapper\n",
        "\n",
        "import torch\n",
        "import torchtuples as tt\n",
        "\n",
        "from pycox.models import CoxPH\n",
        "from pycox.evaluation import EvalSurv\n",
        "\n",
        "from sklearn.model_selection import ParameterSampler\n",
        "\n",
        "from lifelines import KaplanMeierFitter"
      ]
    },
    {
      "cell_type": "code",
      "execution_count": 6,
      "metadata": {
        "id": "oMAOktxXV1F2"
      },
      "outputs": [],
      "source": [
        "np.random.seed(1234)\n",
        "_ = torch.manual_seed(123)"
      ]
    },
    {
      "cell_type": "markdown",
      "metadata": {
        "id": "LXF8k8H7V1F2"
      },
      "source": [
        "## 1. Dataset"
      ]
    },
    {
      "cell_type": "code",
      "execution_count": 7,
      "metadata": {
        "colab": {
          "base_uri": "https://localhost:8080/"
        },
        "id": "YvZP0hDSgZWW",
        "outputId": "9a118210-5103-4bd9-cb47-dd873238e4f5"
      },
      "outputs": [
        {
          "output_type": "stream",
          "name": "stdout",
          "text": [
            "Drive already mounted at /content/drive; to attempt to forcibly remount, call drive.mount(\"/content/drive\", force_remount=True).\n"
          ]
        }
      ],
      "source": [
        "from google.colab import drive\n",
        "drive.mount('/content/drive')"
      ]
    },
    {
      "cell_type": "code",
      "execution_count": 8,
      "metadata": {
        "id": "F3jyV91MV0og"
      },
      "outputs": [],
      "source": [
        "# Read the preprocessed file\n",
        "brca = pd.read_csv('/content/drive/My Drive/3799_more/brca_200.csv')"
      ]
    },
    {
      "cell_type": "markdown",
      "metadata": {
        "id": "DxEE0V36Zihb"
      },
      "source": [
        "## 2. Modelling"
      ]
    },
    {
      "cell_type": "markdown",
      "metadata": {
        "id": "ulZOTmbbr-u-"
      },
      "source": [
        "### Train, valid, and test set split"
      ]
    },
    {
      "cell_type": "code",
      "execution_count": 9,
      "metadata": {
        "id": "2uwqA0M4N5XH"
      },
      "outputs": [],
      "source": [
        "data = brca"
      ]
    },
    {
      "cell_type": "code",
      "execution_count": 10,
      "metadata": {
        "id": "BsdwfKlpI2Fv"
      },
      "outputs": [],
      "source": [
        "from sklearn.model_selection import train_test_split\n",
        "\n",
        "# Splitting the dataset into train, validation, and test sets while maintaining class balance\n",
        "df_train_val, df_test = train_test_split(data, test_size=0.2, random_state=42, stratify=data['status'])\n",
        "df_train, df_val = train_test_split(df_train_val, test_size=0.2, random_state=42, stratify=df_train_val['status'])"
      ]
    },
    {
      "cell_type": "markdown",
      "metadata": {
        "id": "WFjDmtT_V1F4"
      },
      "source": [
        "### Feature transforms\n",
        "All variables needs to be of type `'float32'`, as this is required by pytorch."
      ]
    },
    {
      "cell_type": "code",
      "execution_count": 11,
      "metadata": {
        "id": "mI-hwKMJrNPc"
      },
      "outputs": [],
      "source": [
        "from sklearn_pandas import DataFrameMapper\n",
        "# Get a list of all column names in the DataFrame\n",
        "all_cols = data.iloc[:,2:].columns.tolist()\n",
        "\n",
        "# Create a list of tuples for all columns\n",
        "all_cols_tuples = [(col, None) for col in all_cols]\n",
        "\n",
        "# Create the DataFrameMapper object with all columns\n",
        "x_mapper = DataFrameMapper(all_cols_tuples)"
      ]
    },
    {
      "cell_type": "code",
      "execution_count": 12,
      "metadata": {
        "id": "4AtyMy1Lth-o"
      },
      "outputs": [],
      "source": [
        "x_train = x_mapper.fit_transform(df_train).astype('float32')\n",
        "x_val = x_mapper.transform(df_val).astype('float32')\n",
        "x_test = x_mapper.transform(df_test).astype('float32')"
      ]
    },
    {
      "cell_type": "code",
      "execution_count": 13,
      "metadata": {
        "id": "DidNkMLbV1F6"
      },
      "outputs": [],
      "source": [
        "# Extract target\n",
        "get_target = lambda df: (df['time'].values, df['status'].values)\n",
        "y_train = get_target(df_train)\n",
        "y_val = get_target(df_val)\n",
        "y_test = get_target(df_test)\n",
        "durations_test, events_test = get_target(df_test)\n",
        "val = x_val, y_val"
      ]
    },
    {
      "cell_type": "markdown",
      "metadata": {
        "id": "QoUzG-6iV1F7"
      },
      "source": [
        "### Neural net\n",
        "\n",
        "We create a simple MLP with two hidden layers, ReLU activations, batch norm and dropout.\n",
        "Here, we just use the `torchtuples.practical.MLPVanilla` net to do this.\n",
        "\n",
        "Note that we set `out_features` to 1, and that we have not `output_bias`."
      ]
    },
    {
      "cell_type": "code",
      "execution_count": 14,
      "metadata": {
        "id": "K22V0jkPgSWn"
      },
      "outputs": [],
      "source": [
        "from sklearn.base import BaseEstimator\n",
        "\n",
        "class DeepSURVSklearnAdapter(BaseEstimator):\n",
        "    def __init__(\n",
        "        self,\n",
        "        learning_rate=1e-4,\n",
        "        batch_norm=True,\n",
        "        dropout=0.0,\n",
        "        num_nodes=[32, 32],\n",
        "        batch_size=128,\n",
        "        epochs=10,\n",
        "    ):\n",
        "        self.learning_rate = learning_rate\n",
        "        self.batch_norm = batch_norm\n",
        "        self.dropout = dropout\n",
        "        self.num_nodes = num_nodes\n",
        "        self.batch_size = batch_size\n",
        "        self.epochs = epochs\n",
        "\n",
        "    def fit(self, X, y):\n",
        "        self.net_ = tt.practical.MLPVanilla(\n",
        "            X.shape[1],\n",
        "            self.num_nodes,\n",
        "            1,\n",
        "            self.batch_norm,\n",
        "            self.dropout,\n",
        "            output_bias = False, # prevent overfitting/simplify the model\n",
        "        )\n",
        "        self.deepsurv_ = CoxPH(self.net_, tt.optim.Adam)\n",
        "        self.deepsurv_.optimizer.set_lr(self.learning_rate)\n",
        "\n",
        "        # Sklearn needs the y inputs to be arranged as a matrix with each row\n",
        "        # corresponding to an example but CoxPH needs a tuple with two arrays?\n",
        "        y_ = (y[0], y[1])\n",
        "\n",
        "        #callbacks = [tt.callbacks.EarlyStopping()]\n",
        "        #callbacks = [tt.callbacks.EarlyStopping(patience=5)]\n",
        "        callbacks = [tt.callbacks.EarlyStopping(patience=10)]\n",
        "\n",
        "        log = self.deepsurv_.fit(\n",
        "            X,\n",
        "            y_,\n",
        "            self.batch_size,\n",
        "            self.epochs,\n",
        "            #callbacks = callbacks,\n",
        "            verbose=False\n",
        "        )\n",
        "\n",
        "        return self\n",
        "\n",
        "    def score(self, X, y):\n",
        "        _ = self.deepsurv_.compute_baseline_hazards()\n",
        "        surv = self.deepsurv_.predict_surv_df(X)\n",
        "\n",
        "        ev = EvalSurv(\n",
        "            surv,\n",
        "            y[0],  # time to event\n",
        "            y[1],  # event\n",
        "            censor_surv=\"km\",\n",
        "        )\n",
        "\n",
        "        return ev.concordance_td()\n",
        "\n",
        "    def brier_score(self, X, y, time_grid):\n",
        "        _ = self.deepsurv_.compute_baseline_hazards()\n",
        "        surv = self.deepsurv_.predict_surv_df(X)\n",
        "\n",
        "        ev = EvalSurv(\n",
        "            surv,\n",
        "            y[0],  # time to event\n",
        "            y[1],  # event\n",
        "            censor_surv=\"km\",\n",
        "        )\n",
        "\n",
        "        return ev.brier_score(time_grid)\n",
        "\n",
        "    def integrated_brier_score(self, X, y, time_grid):\n",
        "        _ = self.deepsurv_.compute_baseline_hazards()\n",
        "        surv = self.deepsurv_.predict_surv_df(X)\n",
        "\n",
        "        ev = EvalSurv(\n",
        "            surv,\n",
        "            y[0],  # time to event\n",
        "            y[1],  # event\n",
        "            censor_surv=\"km\",\n",
        "        )\n",
        "\n",
        "        return ev.integrated_brier_score(time_grid)\n",
        "\n",
        "    def predict(self, X):\n",
        "        _ = self.deepsurv_.compute_baseline_hazards()\n",
        "        # Predict survival probabilities for X\n",
        "        return self.deepsurv_.predict_surv_df(X)\n",
        "\n",
        "    def calc_rmst_pred_error(self, X, y, time_point):\n",
        "        _ = self.deepsurv_.compute_baseline_hazards()\n",
        "        surv = self.deepsurv_.predict_surv_df(X)\n",
        "        surv_prob = surv.reset_index()\n",
        "\n",
        "        time_list=[]\n",
        "        for i in surv_prob['duration']:\n",
        "          if i<=(time_point+1):             # 5-year RMST\n",
        "              time_list.append(i)\n",
        "\n",
        "        if time_point not in time_list:\n",
        "          time_list.append(time_point)\n",
        "\n",
        "        # Calculate RMST\n",
        "        rmst_i = pd.DataFrame(columns=surv_prob.columns[1:])\n",
        "        for i in range(len(time_list)-1):\n",
        "          t = time_list[i]\n",
        "          t_plus_1 = time_list[i+1]\n",
        "          row_num = surv_prob[surv_prob['duration'] == t].index[0]\n",
        "          s_t = surv_prob.iloc[row_num, 1:]\n",
        "          mu = (t_plus_1 - t) * s_t\n",
        "\n",
        "          rmst_i = pd.concat([rmst_i, pd.DataFrame([mu])])\n",
        "\n",
        "          # len(time_list) = 419, len(rmst_i) = 418\n",
        "\n",
        "        rmst = pd.DataFrame(rmst_i.sum(axis=0))\n",
        "        rmst = rmst.rename(columns={0: 'rmst'})\n",
        "\n",
        "        test = df_test.copy()\n",
        "        test = test.iloc[:,:2]\n",
        "        test = test.reset_index(drop=True)\n",
        "        test = pd.concat([test, rmst], axis=1)\n",
        "        test = test[test[\"time\"] <= time_point]\n",
        "\n",
        "        train = df_train.copy()\n",
        "        train = train.iloc[:,:2]\n",
        "        train = train.reset_index(drop=True)\n",
        "        train = train[train[\"time\"] <= time_point]\n",
        "\n",
        "        # Kaplan-Meier estimator of the censoring distribution\n",
        "        # fitted to training dataset\n",
        "        kmf = KaplanMeierFitter()\n",
        "        kmf.fit(train['time'], 1-train['status'])\n",
        "\n",
        "        cen = kmf.survival_function_\n",
        "        cen = cen.reset_index()\n",
        "        cen = cen[cen[\"timeline\"] <= time_point]\n",
        "\n",
        "        # Calculate the time intervals col\n",
        "        cen['interval'] = list(zip(cen['timeline'], cen['timeline'].shift(-1, fill_value=cen['timeline'].iloc[-1])))\n",
        "        cen.at[cen.index[-1], 'interval'] = (cen['timeline'].iloc[-1], time_point)\n",
        "\n",
        "        # Search for KM estimates of surv prob in test set\n",
        "        survival_probabilities = []\n",
        "\n",
        "        # Iterate over each time point\n",
        "        for i in test['time']:\n",
        "            # Find the corresponding interval in the 'interval' column of 'cen'\n",
        "            for _, interval in cen.iterrows():  # _ to discard the index\n",
        "                if i >= interval['interval'][0] and i < interval['interval'][1]:\n",
        "                    # Append the survival probability to the list\n",
        "                    survival_probabilities.append(interval['KM_estimate'])\n",
        "                    break\n",
        "\n",
        "        # Add the list of survival probabilities as a new column to the DataFrame\n",
        "        test['KM_estimate'] = survival_probabilities\n",
        "\n",
        "        # convert string-based index to int-based index\n",
        "        test.reset_index(drop=True, inplace=True)\n",
        "\n",
        "        up_sum = 0\n",
        "        low_sum = 0\n",
        "\n",
        "        for i in range(len(test)):\n",
        "          # 5-year RMST prediction error\n",
        "          up = (1/test['KM_estimate'][i])*test[\"status\"][i]*abs(test['time'][i]-test['rmst'][i])\n",
        "          low = (1/test['KM_estimate'][i])*test[\"status\"][i]\n",
        "          up_sum+=up\n",
        "          low_sum+=low\n",
        "\n",
        "        pred_error=up_sum/low_sum\n",
        "\n",
        "        return rmst, pred_error"
      ]
    },
    {
      "cell_type": "markdown",
      "metadata": {
        "id": "tfz2jfAKPE_i"
      },
      "source": [
        "### Hyperparameter tuning"
      ]
    },
    {
      "cell_type": "code",
      "execution_count": 15,
      "metadata": {
        "id": "eRMc2dOfnKN-",
        "colab": {
          "base_uri": "https://localhost:8080/"
        },
        "outputId": "a91a6176-227e-4839-eb3b-3dde1ea74a2f"
      },
      "outputs": [
        {
          "output_type": "stream",
          "name": "stdout",
          "text": [
            "Current parameters: {'num_nodes': [32, 32], 'learning_rate': 0.1, 'epochs': 512, 'dropout': 0.1, 'batch_size': 512}\n",
            "C-index: 0.739\n",
            "========================================\n",
            "Current parameters: {'num_nodes': [64, 64], 'learning_rate': 0.01, 'epochs': 512, 'dropout': 0.2, 'batch_size': 512}\n",
            "C-index: 0.726\n",
            "========================================\n",
            "Current parameters: {'num_nodes': [32, 32], 'learning_rate': 0.01, 'epochs': 512, 'dropout': 0.1, 'batch_size': 512}\n",
            "C-index: 0.72\n",
            "========================================\n",
            "Current parameters: {'num_nodes': [32, 32], 'learning_rate': 0.001, 'epochs': 512, 'dropout': 0.0, 'batch_size': 256}\n",
            "C-index: 0.688\n",
            "========================================\n",
            "Current parameters: {'num_nodes': [32, 64], 'learning_rate': 0.1, 'epochs': 512, 'dropout': 0.2, 'batch_size': 256}\n",
            "C-index: 0.744\n",
            "========================================\n",
            "Current parameters: {'num_nodes': [64, 64], 'learning_rate': 0.001, 'epochs': 512, 'dropout': 0.2, 'batch_size': 128}\n",
            "C-index: 0.725\n",
            "========================================\n",
            "Current parameters: {'num_nodes': [64, 64], 'learning_rate': 0.1, 'epochs': 512, 'dropout': 0.1, 'batch_size': 128}\n",
            "C-index: 0.0\n",
            "========================================\n",
            "Current parameters: {'num_nodes': [32, 64], 'learning_rate': 0.001, 'epochs': 512, 'dropout': 0.1, 'batch_size': 256}\n",
            "C-index: 0.714\n",
            "========================================\n",
            "Current parameters: {'num_nodes': [32, 64], 'learning_rate': 0.1, 'epochs': 512, 'dropout': 0.0, 'batch_size': 256}\n",
            "C-index: 0.725\n",
            "========================================\n",
            "Current parameters: {'num_nodes': [32, 64], 'learning_rate': 0.001, 'epochs': 512, 'dropout': 0.0, 'batch_size': 128}\n",
            "C-index: 0.73\n",
            "========================================\n",
            "Best parameters: {'num_nodes': [32, 64], 'learning_rate': 0.1, 'epochs': 512, 'dropout': 0.2, 'batch_size': 256}\n",
            "Best C-index: 0.744\n"
          ]
        }
      ],
      "source": [
        "# Define the parameter grid for random search\n",
        "param_grid = {\n",
        "    'learning_rate': [1e-1, 1e-2, 1e-3, 1e-4],\n",
        "    'dropout': [0.0, 0.1, 0.2],\n",
        "    'num_nodes': [[32, 32], [64, 64], [32, 64]],\n",
        "    'batch_size': [128, 256, 512],\n",
        "    'epochs': [512]\n",
        "}\n",
        "\n",
        "# Define the number of parameter settings that will be sampled\n",
        "n_iter = 10\n",
        "\n",
        "# Perform random search\n",
        "random_search = ParameterSampler(param_grid, n_iter=n_iter, random_state=123)\n",
        "\n",
        "best_score = float('-inf')\n",
        "best_params = None\n",
        "\n",
        "for params in random_search:\n",
        "    print(\"Current parameters:\", params)\n",
        "    model = DeepSURVSklearnAdapter(**params)\n",
        "    model.fit(x_train, y_train)\n",
        "    c_index = model.score(x_val, y_val)\n",
        "    print(\"C-index:\", round(c_index,3))\n",
        "    if c_index > best_score:\n",
        "        best_score = c_index\n",
        "        best_params = params\n",
        "    print(\"=\" * 40)\n",
        "\n",
        "print(\"Best parameters:\", best_params)\n",
        "print(\"Best C-index:\", round(best_score,3))"
      ]
    },
    {
      "cell_type": "markdown",
      "metadata": {
        "id": "UKPWHwjNzhyq"
      },
      "source": [
        "## 3. Evaluation and Prediction"
      ]
    },
    {
      "cell_type": "code",
      "execution_count": 16,
      "metadata": {
        "id": "w1MHyZte-SKF"
      },
      "outputs": [],
      "source": [
        "# num_nodes=[32, 32], learning_rate = 0.1, epochs = 512, dropout = 0.1, batch_size = 512"
      ]
    },
    {
      "cell_type": "code",
      "execution_count": 17,
      "metadata": {
        "id": "hDpEK4CvP7RN"
      },
      "outputs": [],
      "source": [
        "# Initialize lists to store C-index and integrated Brier score\n",
        "c_index_scores = []\n",
        "integrated_brier_scores = []\n",
        "prediction_error = []\n",
        "\n",
        "# Repeat the process 20 times\n",
        "for _ in range(20):\n",
        "    # Create and train the best model with the best parameters\n",
        "    best_model = DeepSURVSklearnAdapter(**best_params)\n",
        "    best_model.fit(x_train, y_train)\n",
        "\n",
        "    # Evaluate the best model on the test data\n",
        "    # Calculate c-index\n",
        "    c_index = best_model.score(x_test, y_test)\n",
        "    c_index_scores.append(c_index)\n",
        "\n",
        "    # Calculate integrated Brier score\n",
        "    time_grid = np.linspace(durations_test.min(), durations_test.max(), 100)\n",
        "    integrated_brier = best_model.integrated_brier_score(x_test, y_test, time_grid)\n",
        "    integrated_brier_scores.append(integrated_brier)\n",
        "\n",
        "    # Calculate prediction_error for 5-year RMST\n",
        "    # 5-year: 365.25 * 5 = 1826.25\n",
        "    # 10-year: 3652.5\n",
        "    # time_point = 3652.5\n",
        "    # pred_error = best_model.calc_rmst_pred_error(x_test, y_test, time_point)[1] # 5-year RMST prediction error\n",
        "    # pred_error = pred_error/365.25 # convert back to year scale\n",
        "    # prediction_error.append(pred_error)"
      ]
    },
    {
      "cell_type": "code",
      "execution_count": 18,
      "metadata": {
        "id": "EHhNf8cN-_M-",
        "colab": {
          "base_uri": "https://localhost:8080/"
        },
        "outputId": "3d71f0f8-7547-47b0-ab10-772b695711dc"
      },
      "outputs": [
        {
          "output_type": "stream",
          "name": "stdout",
          "text": [
            "Mean C-index: 0.831\n",
            "Mean integrated Brier score: 0.122\n"
          ]
        }
      ],
      "source": [
        "# Calculate the mean C-index, integrated Brier score, and prediction error\n",
        "mean_c_index = np.mean(c_index_scores)\n",
        "mean_integrated_brier = np.mean(integrated_brier_scores)\n",
        "# mean_pred_error = np.mean(prediction_error)\n",
        "\n",
        "print(\"Mean C-index:\", round(mean_c_index, 3))\n",
        "print(\"Mean integrated Brier score:\", round(mean_integrated_brier, 3))\n",
        "# print(\"Mean prediction error:\", round(mean_pred_error, 3))"
      ]
    },
    {
      "cell_type": "code",
      "execution_count": 19,
      "metadata": {
        "id": "WLBj_cgPwl79"
      },
      "outputs": [],
      "source": [
        "# print(prediction_error)"
      ]
    },
    {
      "cell_type": "code",
      "execution_count": 20,
      "metadata": {
        "id": "OneyOJB3QPYZ",
        "colab": {
          "base_uri": "https://localhost:8080/",
          "height": 367
        },
        "outputId": "c5ac3104-e852-4c46-f1d5-c75ef893526c"
      },
      "outputs": [
        {
          "output_type": "display_data",
          "data": {
            "text/plain": [
              "<Figure size 600x400 with 1 Axes>"
            ],
            "image/png": "[encoded data removed]"
          },
          "metadata": {}
        }
      ],
      "source": [
        "# Plot boxplot of C-index scores over 20 replicates\n",
        "plt.figure(figsize=(6, 4))\n",
        "plt.boxplot(c_index_scores)\n",
        "plt.title('Boxplot of C-index Scores over 20 Replicates')\n",
        "plt.ylabel('C-index')\n",
        "plt.xticks([])\n",
        "plt.show()"
      ]
    },
    {
      "cell_type": "code",
      "execution_count": 21,
      "metadata": {
        "id": "fjX1HIehQQtY",
        "colab": {
          "base_uri": "https://localhost:8080/",
          "height": 367
        },
        "outputId": "7dbffd9d-08fd-412f-fc21-e859e3ec5d66"
      },
      "outputs": [
        {
          "output_type": "display_data",
          "data": {
            "text/plain": [
              "<Figure size 600x400 with 1 Axes>"
            ],
            "image/png": "[encoded data removed]"
          },
          "metadata": {}
        }
      ],
      "source": [
        "# Plot boxplot of integrated Brier scores\n",
        "plt.figure(figsize=(6, 4))\n",
        "plt.boxplot(integrated_brier_scores)\n",
        "plt.title('Boxplot of Integrated Brier Scores over 20 Replicates')\n",
        "plt.ylabel('Integrated Brier Score')\n",
        "plt.xticks([])\n",
        "plt.show()"
      ]
    },
    {
      "cell_type": "code",
      "execution_count": 22,
      "metadata": {
        "id": "BMlaxBAC_4LG"
      },
      "outputs": [],
      "source": [
        "# Plot boxplot of prediction_error for 5-year RMST over 20 replicates\n",
        "#plt.figure(figsize=(6, 4))\n",
        "#plt.boxplot(prediction_error)\n",
        "#plt.title('Boxplot of Prediction error for 5-year RMST over 20 Replicates')\n",
        "#plt.ylabel('Prediction error')\n",
        "#plt.xticks([])\n",
        "#plt.show()"
      ]
    },
    {
      "cell_type": "code",
      "execution_count": 23,
      "metadata": {
        "id": "Fqj170rN_2ov",
        "colab": {
          "base_uri": "https://localhost:8080/",
          "height": 17
        },
        "outputId": "a6012e2a-933b-4500-97e6-09366e1d0483"
      },
      "outputs": [
        {
          "output_type": "display_data",
          "data": {
            "text/plain": [
              "<IPython.core.display.Javascript object>"
            ],
            "application/javascript": [
              "\n",
              "    async function download(id, filename, size) {\n",
              "      if (!google.colab.kernel.accessAllowed) {\n",
              "        return;\n",
              "      }\n",
              "      const div = document.createElement('div');\n",
              "      const label = document.createElement('label');\n",
              "      label.textContent = `Downloading \"${filename}\": `;\n",
              "      div.appendChild(label);\n",
              "      const progress = document.createElement('progress');\n",
              "      progress.max = size;\n",
              "      div.appendChild(progress);\n",
              "      document.body.appendChild(div);\n",
              "\n",
              "      const buffers = [];\n",
              "      let downloaded = 0;\n",
              "\n",
              "      const channel = await google.colab.kernel.comms.open(id);\n",
              "      // Send a message to notify the kernel that we're ready.\n",
              "      channel.send({})\n",
              "\n",
              "      for await (const message of channel.messages) {\n",
              "        // Send a message to notify the kernel that we're ready.\n",
              "        channel.send({})\n",
              "        if (message.buffers) {\n",
              "          for (const buffer of message.buffers) {\n",
              "            buffers.push(buffer);\n",
              "            downloaded += buffer.byteLength;\n",
              "            progress.value = downloaded;\n",
              "          }\n",
              "        }\n",
              "      }\n",
              "      const blob = new Blob(buffers, {type: 'application/binary'});\n",
              "      const a = document.createElement('a');\n",
              "      a.href = window.URL.createObjectURL(blob);\n",
              "      a.download = filename;\n",
              "      div.appendChild(a);\n",
              "      a.click();\n",
              "      div.remove();\n",
              "    }\n",
              "  "
            ]
          },
          "metadata": {}
        },
        {
          "output_type": "display_data",
          "data": {
            "text/plain": [
              "<IPython.core.display.Javascript object>"
            ],
            "application/javascript": [
              "download(\"download_ee3dc634-96a5-42ce-ac54-2795e8042e9e\", \"deepsurv_scores.txt\", 857)"
            ]
          },
          "metadata": {}
        }
      ],
      "source": [
        "# Save the combined data to a text file\n",
        "with open('deepsurv_scores.txt', 'w') as file:\n",
        "    file.write(\"# Deepsurv\\n\")\n",
        "    file.write(\"deepsurv_c_index=\")\n",
        "    file.write(str(c_index_scores) + \"\\n\")\n",
        "    file.write(\"deepsurv_ibs=\")\n",
        "    file.write(str(integrated_brier_scores) + \"\\n\")\n",
        "    #file.write(\"deepsurv_pe=\")\n",
        "    #file.write(str(prediction_error) + \"\\n\")\n",
        "\n",
        "# Download the text file\n",
        "from google.colab import files\n",
        "files.download('deepsurv_scores.txt')"
      ]
    }
  ],
  "metadata": {
    "colab": {
      "provenance": [],
      "toc_visible": true
    },
    "kernelspec": {
      "display_name": "Python 3",
      "name": "python3"
    },
    "language_info": {
      "codemirror_mode": {
        "name": "ipython",
        "version": 3
      },
      "file_extension": ".py",
      "mimetype": "text/x-python",
      "name": "python",
      "nbconvert_exporter": "python",
      "pygments_lexer": "ipython3",
      "version": "3.7.4"
    }
  },
  "nbformat": 4,
  "nbformat_minor": 0
}