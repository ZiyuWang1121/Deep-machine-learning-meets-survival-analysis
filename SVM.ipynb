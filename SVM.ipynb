{
  "cells": [
    {
      "cell_type": "markdown",
      "metadata": {
        "id": "_fINXWTiV1Fu"
      },
      "source": [
        "# SVM"
      ]
    },
    {
      "cell_type": "code",
      "source": [
        "pip install scikit-survival"
      ],
      "metadata": {
        "id": "Ucemb-Dlvrxv"
      },
      "execution_count": null,
      "outputs": []
    },
    {
      "cell_type": "code",
      "source": [
        "%matplotlib inline\n",
        "import numpy as np\n",
        "import matplotlib.pyplot as plt\n",
        "import pandas\n",
        "import seaborn as sns\n",
        "from sklearn import set_config\n",
        "from sklearn.model_selection import ShuffleSplit, GridSearchCV\n",
        "\n",
        "from sksurv.datasets import load_veterans_lung_cancer\n",
        "from sksurv.column import encode_categorical\n",
        "from sksurv.metrics import concordance_index_censored\n",
        "from sksurv.svm import FastSurvivalSVM\n",
        "\n",
        "set_config(display=\"text\")  # displays text representation of estimators\n",
        "sns.set_style(\"whitegrid\")"
      ],
      "metadata": {
        "id": "njmtOoQkWKrs"
      },
      "execution_count": null,
      "outputs": []
    },
    {
      "cell_type": "code",
      "execution_count": null,
      "metadata": {
        "id": "oMAOktxXV1F2"
      },
      "outputs": [],
      "source": [
        "data_x, y = load_veterans_lung_cancer()\n",
        "x = encode_categorical(data_x)"
      ]
    },
    {
      "cell_type": "code",
      "source": [
        "estimator = FastSurvivalSVM(max_iter=1000, tol=1e-5, random_state=0)"
      ],
      "metadata": {
        "id": "bejrz4axwt8F"
      },
      "execution_count": null,
      "outputs": []
    },
    {
      "cell_type": "code",
      "source": [
        "def score_survival_model(model, X, y):\n",
        "    prediction = model.predict(X)\n",
        "    result = concordance_index_censored(y[\"Status\"], y[\"Survival_in_days\"], prediction)\n",
        "    return result[0]"
      ],
      "metadata": {
        "id": "Q3fxee7Ywwa9"
      },
      "execution_count": null,
      "outputs": []
    },
    {
      "cell_type": "code",
      "source": [
        "param_grid = {\"alpha\": 2.0 ** np.arange(-12, 13, 2)}\n",
        "cv = ShuffleSplit(n_splits=100, test_size=0.5, random_state=0)\n",
        "gcv = GridSearchCV(estimator, param_grid, scoring=score_survival_model, n_jobs=1, refit=False, cv=cv)"
      ],
      "metadata": {
        "id": "Nr1VSGILwxll"
      },
      "execution_count": null,
      "outputs": []
    },
    {
      "cell_type": "code",
      "source": [
        "import warnings\n",
        "\n",
        "warnings.filterwarnings(\"ignore\", category=UserWarning)\n",
        "gcv = gcv.fit(x, y)"
      ],
      "metadata": {
        "id": "8kJmM7mZwzq2"
      },
      "execution_count": null,
      "outputs": []
    },
    {
      "cell_type": "code",
      "source": [
        "round(gcv.best_score_, 3), gcv.best_params_"
      ],
      "metadata": {
        "id": "c6FjUKJ0w2Yw"
      },
      "execution_count": null,
      "outputs": []
    },
    {
      "cell_type": "code",
      "source": [
        "def plot_performance(gcv):\n",
        "    n_splits = gcv.cv.n_splits\n",
        "    cv_scores = {\"alpha\": [], \"test_score\": [], \"split\": []}\n",
        "    order = []\n",
        "    for i, params in enumerate(gcv.cv_results_[\"params\"]):\n",
        "        name = f'{params[\"alpha\"]:.5f}'\n",
        "        order.append(name)\n",
        "        for j in range(n_splits):\n",
        "            vs = gcv.cv_results_[f\"split{j}_test_score\"][i]\n",
        "            cv_scores[\"alpha\"].append(name)\n",
        "            cv_scores[\"test_score\"].append(vs)\n",
        "            cv_scores[\"split\"].append(j)\n",
        "    df = pandas.DataFrame.from_dict(cv_scores)\n",
        "    _, ax = plt.subplots(figsize=(11, 6))\n",
        "    sns.boxplot(x=\"alpha\", y=\"test_score\", data=df, order=order, ax=ax)\n",
        "    _, xtext = plt.xticks()\n",
        "    for t in xtext:\n",
        "        t.set_rotation(\"vertical\")"
      ],
      "metadata": {
        "id": "2I0fbC52w4Xc"
      },
      "execution_count": null,
      "outputs": []
    },
    {
      "cell_type": "code",
      "source": [
        "plot_performance(gcv)"
      ],
      "metadata": {
        "id": "DjusRHpRw5zA"
      },
      "execution_count": null,
      "outputs": []
    },
    {
      "cell_type": "code",
      "source": [
        "estimator.set_params(**gcv.best_params_)\n",
        "estimator.fit(x, y)"
      ],
      "metadata": {
        "id": "p3iJKJPdw-TE"
      },
      "execution_count": null,
      "outputs": []
    },
    {
      "cell_type": "code",
      "source": [
        "pred = estimator.predict(x.iloc[:2])\n",
        "print(np.round(pred, 3))\n",
        "print(y[:2])"
      ],
      "metadata": {
        "id": "Ng3fh6fUxAC0"
      },
      "execution_count": null,
      "outputs": []
    },
    {
      "cell_type": "code",
      "source": [
        "ref_estimator = FastSurvivalSVM(rank_ratio=0.0, max_iter=1000, tol=1e-5, random_state=0)\n",
        "ref_estimator.fit(x, y)\n",
        "\n",
        "cindex = concordance_index_censored(\n",
        "    y[\"Status\"],\n",
        "    y[\"Survival_in_days\"],\n",
        "    -ref_estimator.predict(x),  # flip sign to obtain risk scores\n",
        ")\n",
        "print(round(cindex[0], 3))"
      ],
      "metadata": {
        "id": "USHiRTSbxB1p"
      },
      "execution_count": null,
      "outputs": []
    },
    {
      "cell_type": "code",
      "source": [
        "pred = ref_estimator.predict(x.iloc[:2])\n",
        "print(np.round(pred, 3))"
      ],
      "metadata": {
        "id": "E4_oobD2xDIN"
      },
      "execution_count": null,
      "outputs": []
    }
  ],
  "metadata": {
    "kernelspec": {
      "display_name": "Python 3",
      "language": "python",
      "name": "python3"
    },
    "language_info": {
      "codemirror_mode": {
        "name": "ipython",
        "version": 3
      },
      "file_extension": ".py",
      "mimetype": "text/x-python",
      "name": "python",
      "nbconvert_exporter": "python",
      "pygments_lexer": "ipython3",
      "version": "3.7.4"
    },
    "colab": {
      "provenance": []
    }
  },
  "nbformat": 4,
  "nbformat_minor": 0
}