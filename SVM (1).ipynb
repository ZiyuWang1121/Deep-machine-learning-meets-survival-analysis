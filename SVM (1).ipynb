{
  "cells": [
    {
      "cell_type": "markdown",
      "metadata": {
        "id": "_fINXWTiV1Fu"
      },
      "source": [
        "# SVM"
      ]
    },
    {
      "cell_type": "markdown",
      "source": [
        "what's left is test, train and validation for this SVM"
      ],
      "metadata": {
        "id": "EI4ogZi0nMw0"
      }
    },
    {
      "cell_type": "code",
      "source": [
        "pip install scikit-survival"
      ],
      "metadata": {
        "colab": {
          "base_uri": "https://localhost:8080/"
        },
        "id": "Ucemb-Dlvrxv",
        "outputId": "52928755-6b4a-467c-c6ef-166229ac65ee"
      },
      "execution_count": 59,
      "outputs": [
        {
          "output_type": "stream",
          "name": "stdout",
          "text": [
            "Requirement already satisfied: scikit-survival in /usr/local/lib/python3.10/dist-packages (0.22.2)\n",
            "Requirement already satisfied: ecos in /usr/local/lib/python3.10/dist-packages (from scikit-survival) (2.0.13)\n",
            "Requirement already satisfied: joblib in /usr/local/lib/python3.10/dist-packages (from scikit-survival) (1.3.2)\n",
            "Requirement already satisfied: numexpr in /usr/local/lib/python3.10/dist-packages (from scikit-survival) (2.9.0)\n",
            "Requirement already satisfied: numpy in /usr/local/lib/python3.10/dist-packages (from scikit-survival) (1.25.2)\n",
            "Requirement already satisfied: osqp!=0.6.0,!=0.6.1 in /usr/local/lib/python3.10/dist-packages (from scikit-survival) (0.6.2.post8)\n",
            "Requirement already satisfied: pandas>=1.0.5 in /usr/local/lib/python3.10/dist-packages (from scikit-survival) (1.5.3)\n",
            "Requirement already satisfied: scipy>=1.3.2 in /usr/local/lib/python3.10/dist-packages (from scikit-survival) (1.11.4)\n",
            "Requirement already satisfied: scikit-learn<1.4,>=1.3.0 in /usr/local/lib/python3.10/dist-packages (from scikit-survival) (1.3.2)\n",
            "Requirement already satisfied: qdldl in /usr/local/lib/python3.10/dist-packages (from osqp!=0.6.0,!=0.6.1->scikit-survival) (0.1.7.post0)\n",
            "Requirement already satisfied: python-dateutil>=2.8.1 in /usr/local/lib/python3.10/dist-packages (from pandas>=1.0.5->scikit-survival) (2.8.2)\n",
            "Requirement already satisfied: pytz>=2020.1 in /usr/local/lib/python3.10/dist-packages (from pandas>=1.0.5->scikit-survival) (2023.4)\n",
            "Requirement already satisfied: threadpoolctl>=2.0.0 in /usr/local/lib/python3.10/dist-packages (from scikit-learn<1.4,>=1.3.0->scikit-survival) (3.3.0)\n",
            "Requirement already satisfied: six>=1.5 in /usr/local/lib/python3.10/dist-packages (from python-dateutil>=2.8.1->pandas>=1.0.5->scikit-survival) (1.16.0)\n"
          ]
        }
      ]
    },
    {
      "cell_type": "code",
      "source": [
        "%matplotlib inline\n",
        "import numpy as np\n",
        "import matplotlib.pyplot as plt\n",
        "import pandas as pd\n",
        "import seaborn as sns\n",
        "from sklearn import set_config\n",
        "from sklearn.model_selection import RepeatedKFold, GridSearchCV\n",
        "\n",
        "from sksurv.datasets import load_veterans_lung_cancer\n",
        "from sksurv.column import encode_categorical\n",
        "from sksurv.metrics import concordance_index_censored\n",
        "from sksurv.svm import FastSurvivalSVM\n",
        "\n",
        "set_config(display=\"text\")  # displays text representation of estimators\n",
        "sns.set_style(\"whitegrid\")"
      ],
      "metadata": {
        "id": "njmtOoQkWKrs"
      },
      "execution_count": 60,
      "outputs": []
    },
    {
      "cell_type": "code",
      "execution_count": 61,
      "metadata": {
        "id": "oMAOktxXV1F2"
      },
      "outputs": [],
      "source": [
        "data_x, y = load_veterans_lung_cancer()\n",
        "x = encode_categorical(data_x)"
      ]
    },
    {
      "cell_type": "code",
      "source": [
        "from sklearn.model_selection import train_test_split\n",
        "\n",
        "# Split the data into train and test sets\n",
        "x_train, x_test, y_train, y_test = train_test_split(x, y, test_size=0.2, random_state=42)"
      ],
      "metadata": {
        "id": "kOh0VZ0l5Uq-"
      },
      "execution_count": 62,
      "outputs": []
    },
    {
      "cell_type": "code",
      "source": [
        "# rank ratio = 0\n",
        "# As a regression problem: the model learns to directly predict the (log) survival time.\n",
        "estimator = FastSurvivalSVM(rank_ratio=0.0, max_iter=1000, tol=1e-5, random_state=0)"
      ],
      "metadata": {
        "id": "bejrz4axwt8F"
      },
      "execution_count": 63,
      "outputs": []
    },
    {
      "cell_type": "code",
      "source": [
        "def score_survival_model(model, X, y):\n",
        "    prediction = model.predict(X)\n",
        "    result = concordance_index_censored(y[\"Status\"], y[\"Survival_in_days\"], prediction)\n",
        "    return result[0]"
      ],
      "metadata": {
        "id": "Q3fxee7Ywwa9"
      },
      "execution_count": 64,
      "outputs": []
    },
    {
      "cell_type": "code",
      "source": [
        "param_grid = {\"alpha\": 2.0 ** np.arange(-12, 13, 2)}\n",
        "\n",
        "# 5 repetitions of 5-fold cross-validation\n",
        "cv = RepeatedKFold(n_splits=5, n_repeats=5, random_state=0)\n",
        "gcv = GridSearchCV(estimator, param_grid, scoring=score_survival_model, n_jobs=1, refit=False, cv=cv)"
      ],
      "metadata": {
        "id": "Nr1VSGILwxll"
      },
      "execution_count": 85,
      "outputs": []
    },
    {
      "cell_type": "code",
      "source": [
        "import warnings\n",
        "\n",
        "warnings.filterwarnings(\"ignore\", category=UserWarning)\n",
        "gcv = gcv.fit(x_train, y_train)"
      ],
      "metadata": {
        "id": "8kJmM7mZwzq2"
      },
      "execution_count": 86,
      "outputs": []
    },
    {
      "cell_type": "code",
      "source": [
        "print(\"Best parameters:\", gcv.best_params_)\n",
        "print(\"Best C-index:\", round(gcv.best_score_, 3))"
      ],
      "metadata": {
        "colab": {
          "base_uri": "https://localhost:8080/"
        },
        "id": "nRWm__oKGzmf",
        "outputId": "c13c701a-d75b-4855-9a5d-174a92d76cd9"
      },
      "execution_count": 87,
      "outputs": [
        {
          "output_type": "stream",
          "name": "stdout",
          "text": [
            "Best parameters: {'alpha': 0.000244140625}\n",
            "Best C-index: 0.29\n"
          ]
        }
      ]
    },
    {
      "cell_type": "code",
      "source": [
        "def plot_performance(gcv):\n",
        "    n_splits = gcv.cv.get_n_splits()\n",
        "    cv_results = pd.DataFrame(gcv.cv_results_)\n",
        "    cv_results = cv_results.rename(columns=lambda x: x.replace(\"param_\", \"\"))\n",
        "\n",
        "    plt.figure(figsize=(6, 3))\n",
        "    sns.stripplot(x=\"alpha\", y=\"mean_test_score\", data=cv_results, jitter=True, dodge=True)\n",
        "    plt.title(\"Cross-validated Performance vs. Alpha\")\n",
        "    plt.xlabel(\"Alpha\")\n",
        "    plt.ylabel(\"Mean Evaluation Score\")\n",
        "    plt.xticks(rotation=45)\n",
        "    plt.show()\n",
        "\n",
        "plot_performance(gcv)"
      ],
      "metadata": {
        "colab": {
          "base_uri": "https://localhost:8080/",
          "height": 413
        },
        "id": "lIKlyPhtIjnj",
        "outputId": "52901af8-3624-4fc5-83ab-0ed0b60a67bf"
      },
      "execution_count": 88,
      "outputs": [
        {
          "output_type": "display_data",
          "data": {
            "text/plain": [
              "<Figure size 600x300 with 1 Axes>"
            ],
            "image/png": "[encoded data removed]"
          },
          "metadata": {}
        }
      ]
    },
    {
      "cell_type": "code",
      "source": [
        "estimator.set_params(**gcv.best_params_)\n",
        "estimator.fit(x_train, y_train)"
      ],
      "metadata": {
        "colab": {
          "base_uri": "https://localhost:8080/"
        },
        "id": "p3iJKJPdw-TE",
        "outputId": "ed1029ba-54ba-4d76-bcc5-8e07357c1691"
      },
      "execution_count": 89,
      "outputs": [
        {
          "output_type": "execute_result",
          "data": {
            "text/plain": [
              "FastSurvivalSVM(alpha=0.000244140625, max_iter=1000, optimizer='avltree',\n",
              "                random_state=0, rank_ratio=0.0, tol=1e-05)"
            ]
          },
          "metadata": {},
          "execution_count": 89
        }
      ]
    },
    {
      "cell_type": "code",
      "source": [
        "test_pred = estimator.predict(x_test)\n",
        "#print(np.round(test_pred, 3))\n",
        "#print(y_test)\n",
        "\n",
        "# Evaluate the model on the test set\n",
        "test_cindex = concordance_index_censored(\n",
        "    y_test[\"Status\"],\n",
        "    y_test[\"Survival_in_days\"],\n",
        "    -test_pred)           # flip sign to obtain risk scores\n",
        "print(\"Concordance index on test set:\", round(test_cindex[0], 3))\n"
      ],
      "metadata": {
        "id": "Ng3fh6fUxAC0",
        "outputId": "b4903343-8bbb-44d5-f845-bffd1ba1a182",
        "colab": {
          "base_uri": "https://localhost:8080/"
        }
      },
      "execution_count": 98,
      "outputs": [
        {
          "output_type": "stream",
          "name": "stdout",
          "text": [
            "Concordance index on test set: 0.67\n"
          ]
        }
      ]
    },
    {
      "cell_type": "code",
      "source": [
        "# reference estimator (regression) and result\n",
        "\n",
        "ref_estimator = FastSurvivalSVM(rank_ratio=0.0, max_iter=1000, tol=1e-5, random_state=0)\n",
        "ref_estimator.fit(x_train, y_train)\n",
        "\n",
        "cindex = concordance_index_censored(\n",
        "    y_test[\"Status\"],\n",
        "    y_test[\"Survival_in_days\"],\n",
        "    -ref_estimator.predict(x_test),  # flip sign to obtain risk scores\n",
        ")\n",
        "print(round(cindex[0], 3))"
      ],
      "metadata": {
        "id": "USHiRTSbxB1p",
        "outputId": "cc655b14-fc10-4dd1-e733-f70f5ecdbd4d",
        "colab": {
          "base_uri": "https://localhost:8080/"
        }
      },
      "execution_count": 99,
      "outputs": [
        {
          "output_type": "stream",
          "name": "stdout",
          "text": [
            "0.687\n"
          ]
        }
      ]
    },
    {
      "cell_type": "code",
      "source": [
        "pred = ref_estimator.predict(x_test.iloc[:2])\n",
        "print(np.round(pred, 3))"
      ],
      "metadata": {
        "id": "E4_oobD2xDIN",
        "outputId": "34eb4d48-fd0d-4e19-fa15-a86b8e68ae7a",
        "colab": {
          "base_uri": "https://localhost:8080/"
        }
      },
      "execution_count": 92,
      "outputs": [
        {
          "output_type": "stream",
          "name": "stdout",
          "text": [
            "[ 3.643 35.007]\n"
          ]
        }
      ]
    }
  ],
  "metadata": {
    "kernelspec": {
      "display_name": "Python 3",
      "language": "python",
      "name": "python3"
    },
    "language_info": {
      "codemirror_mode": {
        "name": "ipython",
        "version": 3
      },
      "file_extension": ".py",
      "mimetype": "text/x-python",
      "name": "python",
      "nbconvert_exporter": "python",
      "pygments_lexer": "ipython3",
      "version": "3.7.4"
    },
    "colab": {
      "provenance": []
    }
  },
  "nbformat": 4,
  "nbformat_minor": 0
}