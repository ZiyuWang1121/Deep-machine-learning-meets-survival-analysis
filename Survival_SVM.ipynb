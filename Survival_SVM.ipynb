{
  "cells": [
    {
      "cell_type": "markdown",
      "metadata": {
        "id": "view-in-github",
        "colab_type": "text"
      },
      "source": [
        "<a href=\"https://colab.research.google.com/github/ZiyuWang1121/Deep-machine-learning-meets-survival-analysis/blob/main/Survival_SVM.ipynb\" target=\"_parent\"><img src=\"https://colab.research.google.com/assets/colab-badge.svg\" alt=\"Open In Colab\"/></a>"
      ]
    },
    {
      "cell_type": "markdown",
      "metadata": {
        "id": "_fINXWTiV1Fu"
      },
      "source": [
        "# Survival SVM"
      ]
    },
    {
      "cell_type": "code",
      "source": [
        "pip install scikit-survival"
      ],
      "metadata": {
        "id": "Ucemb-Dlvrxv"
      },
      "execution_count": null,
      "outputs": []
    },
    {
      "cell_type": "code",
      "source": [
        "%matplotlib inline\n",
        "import numpy as np\n",
        "import matplotlib.pyplot as plt\n",
        "import pandas as pd\n",
        "import seaborn as sns\n",
        "from sklearn import set_config\n",
        "from sklearn.model_selection import RepeatedKFold, GridSearchCV\n",
        "\n",
        "from sksurv.datasets import load_veterans_lung_cancer\n",
        "from sksurv.column import encode_categorical\n",
        "from sksurv.metrics import concordance_index_censored\n",
        "from sksurv.svm import FastSurvivalSVM\n",
        "\n",
        "set_config(display=\"text\")  # displays text representation of estimators\n",
        "sns.set_style(\"whitegrid\")"
      ],
      "metadata": {
        "id": "njmtOoQkWKrs"
      },
      "execution_count": null,
      "outputs": []
    },
    {
      "cell_type": "code",
      "execution_count": null,
      "metadata": {
        "id": "oMAOktxXV1F2"
      },
      "outputs": [],
      "source": [
        "# load dataset\n",
        "data_x, y = load_veterans_lung_cancer()\n",
        "x = encode_categorical(data_x)"
      ]
    },
    {
      "cell_type": "code",
      "source": [
        "from sklearn.model_selection import train_test_split\n",
        "\n",
        "# Split the data into train and test sets\n",
        "x_train, x_test, y_train, y_test = train_test_split(x, y, test_size=0.2, random_state=42)"
      ],
      "metadata": {
        "id": "kOh0VZ0l5Uq-"
      },
      "execution_count": null,
      "outputs": []
    },
    {
      "cell_type": "code",
      "source": [
        "# rank ratio = 0\n",
        "# As a regression problem: the model learns to directly predict the (log) survival time.\n",
        "estimator = FastSurvivalSVM(rank_ratio=0.0, max_iter=1000, tol=1e-5, random_state=42)"
      ],
      "metadata": {
        "id": "bejrz4axwt8F"
      },
      "execution_count": null,
      "outputs": []
    },
    {
      "cell_type": "code",
      "source": [
        "def score_survival_model(model, X, y):\n",
        "    prediction = model.predict(X)\n",
        "    result = concordance_index_censored(y[\"Status\"], y[\"Survival_in_days\"], -prediction)\n",
        "    return result[0]"
      ],
      "metadata": {
        "id": "Q3fxee7Ywwa9"
      },
      "execution_count": null,
      "outputs": []
    },
    {
      "cell_type": "code",
      "source": [
        "param_grid = {\"alpha\": 2.0 ** np.arange(-12, 13, 2)}\n",
        "\n",
        "# 5 repetitions of 5-fold cross-validation\n",
        "cv = RepeatedKFold(n_splits=5, n_repeats=5, random_state=42)\n",
        "gcv = GridSearchCV(estimator, param_grid, scoring=score_survival_model, n_jobs=-1, refit=False, cv=cv)"
      ],
      "metadata": {
        "id": "Nr1VSGILwxll"
      },
      "execution_count": null,
      "outputs": []
    },
    {
      "cell_type": "code",
      "source": [
        "import warnings\n",
        "\n",
        "warnings.filterwarnings(\"ignore\", category=UserWarning)\n",
        "gcv = gcv.fit(x_train, y_train)"
      ],
      "metadata": {
        "id": "8kJmM7mZwzq2"
      },
      "execution_count": null,
      "outputs": []
    },
    {
      "cell_type": "code",
      "source": [
        "print(\"Best parameters:\", gcv.best_params_)\n",
        "print(\"Best C-index:\", round(gcv.best_score_, 3))"
      ],
      "metadata": {
        "id": "nRWm__oKGzmf"
      },
      "execution_count": null,
      "outputs": []
    },
    {
      "cell_type": "code",
      "source": [
        "def plot_performance(gcv):\n",
        "    cv_results = gcv.cv_results_\n",
        "    param_values = cv_results['param_alpha'].data.astype(float)\n",
        "    test_scores = cv_results['mean_test_score']\n",
        "    n_splits = len(cv_results['split0_test_score'])  # Accessing the number of splits\n",
        "\n",
        "    cv_scores = {\"alpha\": [], \"test_score\": [], \"split\": []}\n",
        "    order = []\n",
        "\n",
        "    for i, param_value in enumerate(param_values):\n",
        "        name = f'{param_value:.5f}'\n",
        "        order.append(name)\n",
        "        for j in range(n_splits):\n",
        "            vs = cv_results[f\"split{j}_test_score\"][i]\n",
        "            cv_scores[\"alpha\"].append(name)\n",
        "            cv_scores[\"test_score\"].append(vs)\n",
        "            cv_scores[\"split\"].append(j)\n",
        "\n",
        "    df = pd.DataFrame.from_dict(cv_scores)\n",
        "    _, ax = plt.subplots(figsize=(11, 6))\n",
        "    sns.boxplot(x=\"alpha\", y=\"test_score\", data=df, order=order, ax=ax)\n",
        "    _, xtext = plt.xticks()\n",
        "    for t in xtext:\n",
        "        t.set_rotation(\"vertical\")\n",
        "\n",
        "    plt.title('Grid Search Results for SVM Hyperparameter (alpha)')\n",
        "    plt.xlabel('Alpha (log2 scale)')\n",
        "    plt.ylabel('Test Score (Concordance Index)')\n",
        "    plt.show()\n",
        "\n",
        "plot_performance(gcv)"
      ],
      "metadata": {
        "id": "xj-ZQHHirHSd"
      },
      "execution_count": null,
      "outputs": []
    },
    {
      "cell_type": "code",
      "source": [
        "#def plot_performance(gcv):\n",
        "#    n_splits = gcv.cv.get_n_splits()\n",
        "#    cv_results = pd.DataFrame(gcv.cv_results_)\n",
        "#    cv_results = cv_results.rename(columns=lambda x: x.replace(\"param_\", \"\"))\n",
        "\n",
        "#    plt.figure(figsize=(6, 3))\n",
        "#    sns.stripplot(x=\"alpha\", y=\"mean_test_score\", data=cv_results, jitter=True, dodge=True)\n",
        "#    plt.title(\"Cross-validated Performance vs. Alpha\")\n",
        "#    plt.xlabel(\"Alpha\")\n",
        "#    plt.ylabel(\"Mean Evaluation Score\")\n",
        "#    plt.xticks(rotation=45)\n",
        "#    plt.show()\n",
        "\n",
        "#plot_performance(gcv)"
      ],
      "metadata": {
        "id": "lIKlyPhtIjnj"
      },
      "execution_count": null,
      "outputs": []
    },
    {
      "cell_type": "code",
      "source": [
        "estimator.set_params(**gcv.best_params_)\n",
        "estimator.fit(x_train, y_train)"
      ],
      "metadata": {
        "id": "p3iJKJPdw-TE"
      },
      "execution_count": null,
      "outputs": []
    },
    {
      "cell_type": "code",
      "source": [
        "train_pred = estimator.predict(x_train)\n",
        "\n",
        "# Evaluate the model on the train set\n",
        "train_cindex = concordance_index_censored(\n",
        "    y_train[\"Status\"],\n",
        "    y_train[\"Survival_in_days\"],\n",
        "    -train_pred)           # flip sign to obtain risk scores\n",
        "print(\"C-index on test set:\", round(train_cindex[0], 3))\n"
      ],
      "metadata": {
        "id": "G8TZ2mz53q8l"
      },
      "execution_count": null,
      "outputs": []
    },
    {
      "cell_type": "code",
      "source": [
        "test_pred = estimator.predict(x_test)\n",
        "#print(np.round(test_pred, 3))\n",
        "#print(y_test)\n",
        "\n",
        "# Evaluate the model on the test set\n",
        "test_cindex = concordance_index_censored(\n",
        "    y_test[\"Status\"],\n",
        "    y_test[\"Survival_in_days\"],\n",
        "    -test_pred)           # flip sign to obtain risk scores\n",
        "print(\"C-index on test set:\", round(test_cindex[0], 3))\n"
      ],
      "metadata": {
        "id": "Ng3fh6fUxAC0"
      },
      "execution_count": null,
      "outputs": []
    },
    {
      "cell_type": "code",
      "source": [
        "# reference estimator (regression) and result\n",
        "\n",
        "ref_estimator = FastSurvivalSVM(rank_ratio=0.0, max_iter=1000, tol=1e-5, random_state=42)\n",
        "ref_estimator.fit(x_train, y_train)\n",
        "\n",
        "cindex = concordance_index_censored(\n",
        "    y_train[\"Status\"],\n",
        "    y_train[\"Survival_in_days\"],\n",
        "    -ref_estimator.predict(x_train),  # flip sign to obtain risk scores\n",
        ")\n",
        "print(\"C-index (train):\", round(cindex[0], 3))\n",
        "\n",
        "cindex = concordance_index_censored(\n",
        "    y_test[\"Status\"],\n",
        "    y_test[\"Survival_in_days\"],\n",
        "    -ref_estimator.predict(x_test),  # flip sign to obtain risk scores\n",
        ")\n",
        "print(\"C-index (test):\", round(cindex[0], 3))"
      ],
      "metadata": {
        "id": "USHiRTSbxB1p"
      },
      "execution_count": null,
      "outputs": []
    },
    {
      "cell_type": "code",
      "source": [
        "pred = ref_estimator.predict(x_test.iloc[:2])\n",
        "print(np.round(pred, 3))"
      ],
      "metadata": {
        "id": "E4_oobD2xDIN"
      },
      "execution_count": null,
      "outputs": []
    }
  ],
  "metadata": {
    "kernelspec": {
      "display_name": "Python 3",
      "language": "python",
      "name": "python3"
    },
    "language_info": {
      "codemirror_mode": {
        "name": "ipython",
        "version": 3
      },
      "file_extension": ".py",
      "mimetype": "text/x-python",
      "name": "python",
      "nbconvert_exporter": "python",
      "pygments_lexer": "ipython3",
      "version": "3.7.4"
    },
    "colab": {
      "provenance": [],
      "include_colab_link": true
    }
  },
  "nbformat": 4,
  "nbformat_minor": 0
}