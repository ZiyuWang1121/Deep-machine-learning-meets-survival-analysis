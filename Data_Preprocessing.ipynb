{
  "cells": [
    {
      "cell_type": "markdown",
      "source": [
        "## Data Preprocessing Steps:\n",
        "1. Load raw data obtained using curatedTCGAData.R.\n",
        "2. Select clinical and biospecimen data, combine with RNA expression based on patient ID.\n",
        "3. Remove columns with NA values > 0.2.\n",
        "4. Drop rows with \"status\" and \"time\" values being NA.\n",
        "5. Encode categorical variables.\n",
        "6. Output data for further imputation."
      ],
      "metadata": {
        "id": "m5jtAmzRiDSJ"
      }
    },
    {
      "cell_type": "code",
      "execution_count": null,
      "metadata": {
        "id": "OxFvOKownIjV"
      },
      "outputs": [],
      "source": [
        "from google.colab import drive\n",
        "drive.mount('/content/drive')"
      ]
    },
    {
      "cell_type": "code",
      "execution_count": null,
      "metadata": {
        "id": "7A0BYpJ5bibn"
      },
      "outputs": [],
      "source": [
        "import pandas as pd\n",
        "\n",
        "# Read the colData file\n",
        "colData = pd.read_csv('/content/drive/My Drive/3799/tumor_colData.csv',low_memory=False)\n",
        "\n",
        "# Read the RNASeq2GeneNorm-2 file\n",
        "RNA = pd.read_csv('/content/drive/My Drive/3799/tumor_BRCA_RNASeq2GeneNorm-20160128.csv')\n"
      ]
    },
    {
      "cell_type": "code",
      "execution_count": null,
      "metadata": {
        "id": "s1EAqbUBoiBz"
      },
      "outputs": [],
      "source": [
        "colData = colData.drop(\"Unnamed: 0\", axis=1)\n",
        "colData.head(2)"
      ]
    },
    {
      "cell_type": "code",
      "execution_count": null,
      "metadata": {
        "id": "u8OKurZw6r2a"
      },
      "outputs": [],
      "source": [
        "import numpy as np\n",
        "colData['time'] = np.where(colData['vital_status'] == 0, colData['days_to_last_followup'], colData['days_to_death'])"
      ]
    },
    {
      "cell_type": "code",
      "execution_count": null,
      "metadata": {
        "id": "spqyUpnMom3-"
      },
      "outputs": [],
      "source": [
        "\n",
        "selected_cols = [  'patientID',\n",
        "            # Survival data\n",
        "            'vital_status', 'time',\n",
        "\n",
        "            # staging parameters\n",
        "            'pathologic_stage', 'pathology_T_stage', 'pathology_N_stage', 'pathology_M_stage',\n",
        "\n",
        "            # Demographical variables\n",
        "            'years_to_birth', 'gender', 'race', 'ethnicity',\n",
        "\n",
        "            # Lymph_node related\n",
        "            'number_of_lymph_nodes', 'patient.lymph_node_examined_count',\n",
        "            'patient.axillary_lymph_node_stage_method_type',\n",
        "            'patient.number_of_lymphnodes_positive_by_he',\n",
        "\n",
        "            # ER_Status\n",
        "            'patient.breast_carcinoma_estrogen_receptor_status',\n",
        "            'patient.er_level_cell_percentage_category',\n",
        "\n",
        "            # PR_Status\n",
        "            'patient.breast_carcinoma_progesterone_receptor_status',\n",
        "            'patient.progesterone_receptor_level_cell_percent_category',\n",
        "\n",
        "            # HER_Status\n",
        "            'patient.lab_proc_her2_neu_immunohistochemistry_receptor_status',\n",
        "            'patient.her2_erbb_pos_finding_cell_percent_category',\n",
        "\n",
        "            # Other_status\n",
        "            'patient.margin_status', 'patient.menopause_status',\n",
        "\n",
        "            # Variables related to treatment and diagnosis\n",
        "            'radiation_therapy', 'histological_type',\n",
        "            'patient.anatomic_neoplasm_subdivisions.anatomic_neoplasm_subdivision',\n",
        "            'patient.breast_carcinoma_surgical_procedure_name',\n",
        "            'patient.history_of_neoadjuvant_treatment',\n",
        "            'patient.initial_pathologic_diagnosis_method',\n",
        "\n",
        "            # Tumor related\n",
        "            'patient.biospecimen_cqcf.tumor_samples.tumor_sample.tumor_necrosis_percent',\n",
        "            'patient.biospecimen_cqcf.tumor_samples.tumor_sample.tumor_nuclei_percent',\n",
        "            'patient.biospecimen_cqcf.tumor_samples.tumor_sample.tumor_weight'\n",
        "            ]\n",
        "\n",
        "selected_data = colData[selected_cols]"
      ]
    },
    {
      "cell_type": "code",
      "execution_count": null,
      "metadata": {
        "id": "kFQD_o6LAFGo"
      },
      "outputs": [],
      "source": [
        "# Rename the columns\n",
        "\n",
        "def rename_columns(col):\n",
        "    return col.split('.')[-1]\n",
        "\n",
        "selected_data.columns = selected_data.columns.map(rename_columns)\n",
        "\n",
        "column_mapping = {\n",
        "    'vital_status': 'status',\n",
        "    'years_to_birth':'age'\n",
        "}\n",
        "\n",
        "selected_data = selected_data.rename(columns=column_mapping)"
      ]
    },
    {
      "cell_type": "code",
      "execution_count": null,
      "metadata": {
        "id": "mrD_H3eKApJA"
      },
      "outputs": [],
      "source": [
        "selected_data.columns"
      ]
    },
    {
      "cell_type": "code",
      "execution_count": null,
      "metadata": {
        "id": "KY9Y0cVPDEiA"
      },
      "outputs": [],
      "source": [
        "selected_data.shape"
      ]
    },
    {
      "cell_type": "code",
      "execution_count": null,
      "metadata": {
        "id": "YimmkbugVztr"
      },
      "outputs": [],
      "source": [
        "# Remove columns with NA values > 0.2\n",
        "import pandas as pd\n",
        "\n",
        "# Set threshold for the percentage of NA values\n",
        "threshold = 0.2\n",
        "\n",
        "# Calculate the percentage of missing values in each column\n",
        "na_percentage = selected_data.isnull().mean()\n",
        "\n",
        "# Get the column names where the percentage of missing values exceeds the threshold\n",
        "columns_to_drop = na_percentage[na_percentage > threshold].index\n",
        "\n",
        "# Drop columns with too many missing values\n",
        "selected_data_filtered = selected_data.drop(columns=columns_to_drop)"
      ]
    },
    {
      "cell_type": "code",
      "execution_count": null,
      "metadata": {
        "id": "nvTx97Zdrltu"
      },
      "outputs": [],
      "source": [
        "selected_data_filtered.shape"
      ]
    },
    {
      "cell_type": "code",
      "execution_count": null,
      "metadata": {
        "id": "poICN-0EOJAq"
      },
      "outputs": [],
      "source": [
        "selected_data_filtered.isnull().sum()"
      ]
    },
    {
      "cell_type": "code",
      "execution_count": null,
      "metadata": {
        "id": "ZN8KwA5cu5Y2"
      },
      "outputs": [],
      "source": [
        "# Save the selected DataFrame to a new CSV file in Google Colab\n",
        "#selected_data.to_csv('/content/drive/My Drive/3799/selected_col.csv', index=False)\n",
        "\n",
        "#print(\"selected DataFrame saved to Google Drive.\")"
      ]
    },
    {
      "cell_type": "code",
      "execution_count": null,
      "metadata": {
        "id": "_UxCXGAhkHQQ"
      },
      "outputs": [],
      "source": [
        "col = RNA.columns\n",
        "RNA = RNA.T  # Transpose the DataFrame\n",
        "# Set the values in the first row as column names\n",
        "RNA.columns = RNA.iloc[0]\n",
        "\n",
        "# Drop the first row from the DataFrame\n",
        "RNA = RNA[1:]\n",
        "\n",
        "RNA = RNA.reset_index(drop=True)\n",
        "col = col[1:]\n",
        "RNA.insert(0, 'Hybridization REF', col)\n",
        "RNA.insert(1, 'patientID', RNA['Hybridization REF'].str[:12])"
      ]
    },
    {
      "cell_type": "code",
      "execution_count": null,
      "metadata": {
        "id": "k7sNJ5ODmmVu"
      },
      "outputs": [],
      "source": [
        "RNA.head(2)"
      ]
    },
    {
      "cell_type": "code",
      "execution_count": null,
      "metadata": {
        "id": "BqR2ObHpBu8Z"
      },
      "outputs": [],
      "source": [
        "# Check for NA values in columns\n",
        "columns_with_na = RNA.columns[RNA.isnull().any()]\n",
        "\n",
        "if len(columns_with_na) > 0:\n",
        "    print(\"Columns with NA values:\")\n",
        "    print(columns_with_na)\n",
        "else:\n",
        "    print(\"No columns with NA values.\")"
      ]
    },
    {
      "cell_type": "code",
      "execution_count": null,
      "metadata": {
        "id": "rRwLofUzmpw1"
      },
      "outputs": [],
      "source": [
        "print(colData.shape)\n",
        "print(RNA.shape)"
      ]
    },
    {
      "cell_type": "code",
      "execution_count": null,
      "metadata": {
        "id": "a76vNpQfl_op"
      },
      "outputs": [],
      "source": [
        "# only consider RNA (gene expression)\n",
        "merged_df = pd.merge(selected_data_filtered, RNA, on='patientID')"
      ]
    },
    {
      "cell_type": "code",
      "execution_count": null,
      "metadata": {
        "id": "qA5jjL5rmIaL"
      },
      "outputs": [],
      "source": [
        "print(merged_df.shape)"
      ]
    },
    {
      "cell_type": "code",
      "execution_count": null,
      "metadata": {
        "id": "cvj2GCpWn2i0"
      },
      "outputs": [],
      "source": [
        "cols = list(merged_df.columns)\n",
        "cols.insert(0, cols.pop(cols.index('Hybridization REF')))\n",
        "merged_df = merged_df.loc[:, cols]"
      ]
    },
    {
      "cell_type": "code",
      "execution_count": null,
      "metadata": {
        "id": "E0cQYCarmN5O"
      },
      "outputs": [],
      "source": [
        "merged_df.head(2)"
      ]
    },
    {
      "cell_type": "code",
      "execution_count": null,
      "metadata": {
        "id": "Z-YxVjxroFFg"
      },
      "outputs": [],
      "source": [
        "merged_df.shape"
      ]
    },
    {
      "cell_type": "code",
      "execution_count": null,
      "metadata": {
        "id": "yv0AXidYoVUP"
      },
      "outputs": [],
      "source": [
        "merged_df.head(2)"
      ]
    },
    {
      "cell_type": "code",
      "execution_count": null,
      "metadata": {
        "id": "cQeAHOzAoCJT"
      },
      "outputs": [],
      "source": [
        "RNA[RNA['Hybridization REF'].str.contains('TCGA-A7-A0CE')]\n",
        "\n",
        "# but in firebrowse (previous data), 2 samples\n",
        "# tcga-a7-a0ce  TCGA-A7-A0CE-11A-21R-A089-07  normalized_count\n",
        "# tcga-a7-a0ce  TCGA-A7-A0CE-01A-11R-A00Z-07  normalized_count\n",
        "\n",
        "# Why is the problem resolved? As this data filtered only code 01 Primary Solid Tumor\n",
        "# 11 refers to Solid Tissue Normal"
      ]
    },
    {
      "cell_type": "code",
      "execution_count": null,
      "metadata": {
        "id": "ZYc88W7Dvmuf"
      },
      "outputs": [],
      "source": [
        "duplicate_rows = RNA[RNA.duplicated(subset='patientID')]\n",
        "\n",
        "if duplicate_rows.empty:\n",
        "    print(\"No duplicate values found in the DataFrame.\")\n",
        "else:\n",
        "    print(\"Duplicate values found in the DataFrame:\")\n",
        "    print(duplicate_rows)"
      ]
    },
    {
      "cell_type": "code",
      "execution_count": null,
      "metadata": {
        "id": "neP9v5pv24nZ"
      },
      "outputs": [],
      "source": [
        "# want to use RF method instead\n",
        "\n",
        "#from sklearn.impute import SimpleImputer\n",
        "\n",
        "#merged_df_imputed = merged_df\n",
        "\n",
        "#imputer = SimpleImputer(strategy='mean')\n",
        "#merged_df_imputed.iloc[:,numerical_features_idx] = imputer.fit_transform(merged_df_imputed.iloc[:,numerical_features_idx])\n",
        "\n",
        "#categorical_imputer = SimpleImputer(strategy='most_frequent')\n",
        "#merged_df_imputed.iloc[:,categorical_features_idx] = categorical_imputer.fit_transform(merged_df_imputed.iloc[:,categorical_features_idx])"
      ]
    },
    {
      "cell_type": "code",
      "execution_count": null,
      "metadata": {
        "id": "cDldvmKa6Bci"
      },
      "outputs": [],
      "source": [
        "# drop rows with \"status\" and \"time\" value being NA\n",
        "merged_df_filtered = merged_df.dropna(subset=['status', 'time'])"
      ]
    },
    {
      "cell_type": "code",
      "execution_count": null,
      "metadata": {
        "id": "ZHEbYo0k5-EK"
      },
      "outputs": [],
      "source": [
        "print(merged_df.shape)\n",
        "print(merged_df_filtered.shape)"
      ]
    },
    {
      "cell_type": "code",
      "source": [
        "# Find and drop columns with constant values\n",
        "constant_cols = merged_df_filtered.columns[merged_df_filtered.nunique() <= 1]\n",
        "new_merged_df_filtered = merged_df_filtered.drop(columns=constant_cols).copy()"
      ],
      "metadata": {
        "id": "-49udnatz_Ea"
      },
      "execution_count": null,
      "outputs": []
    },
    {
      "cell_type": "code",
      "source": [
        "print(merged_df_filtered.shape)\n",
        "print(new_merged_df_filtered.shape)"
      ],
      "metadata": {
        "id": "_R0Ikhtu3W6w"
      },
      "execution_count": null,
      "outputs": []
    },
    {
      "cell_type": "code",
      "execution_count": null,
      "metadata": {
        "id": "8WScynnN0rdc"
      },
      "outputs": [],
      "source": [
        "categorical_features_idx = [4, 5, 6, 7, 9, 10, 11, 14, 16, 17, 18, 19, 20, 21, 22, 23, 24, 25, 26]\n",
        "numerical_features_idx = [idx for idx in list(range(0, 20247)) if idx not in categorical_features_idx][4:]\n",
        "#numerical_features_idx = [8, 12, 13, 15, 27, 28, 29]\n",
        "#numerical_features_idx += list(range(30, 20247))"
      ]
    },
    {
      "cell_type": "code",
      "execution_count": null,
      "metadata": {
        "id": "tuD2KoduxkrD"
      },
      "outputs": [],
      "source": [
        "new_merged_df_filtered.iloc[:,categorical_features_idx].head()"
      ]
    },
    {
      "cell_type": "code",
      "execution_count": null,
      "metadata": {
        "id": "nvt74Chpxwx8"
      },
      "outputs": [],
      "source": [
        "new_merged_df_filtered.iloc[:,numerical_features_idx].head()"
      ]
    },
    {
      "cell_type": "code",
      "source": [
        "# One-hot encode categorical variables\n",
        "categorical_features = new_merged_df_filtered.columns[categorical_features_idx]\n",
        "new_merged_df_filtered_encoded = pd.get_dummies(new_merged_df_filtered, columns=categorical_features)"
      ],
      "metadata": {
        "id": "YZiFegGEWxXH"
      },
      "execution_count": null,
      "outputs": []
    },
    {
      "cell_type": "code",
      "source": [
        "new_merged_df_filtered_encoded"
      ],
      "metadata": {
        "id": "CgaNJT1TYnJF"
      },
      "execution_count": null,
      "outputs": []
    },
    {
      "cell_type": "code",
      "execution_count": null,
      "metadata": {
        "id": "cFXr-36OrDHB"
      },
      "outputs": [],
      "source": [
        "# Save the merged DataFrame to a CSV file\n",
        "merged_df.to_csv('merged_data.csv', index=False)"
      ]
    }
  ],
  "metadata": {
    "colab": {
      "provenance": [],
      "authorship_tag": "ABX9TyM3H1xyj4gricgs16ZQgQmt"
    },
    "kernelspec": {
      "display_name": "Python 3",
      "name": "python3"
    },
    "language_info": {
      "name": "python"
    }
  },
  "nbformat": 4,
  "nbformat_minor": 0
}